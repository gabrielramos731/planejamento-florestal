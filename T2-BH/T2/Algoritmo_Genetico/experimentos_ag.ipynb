{
 "cells": [
  {
   "cell_type": "code",
   "execution_count": 21,
   "metadata": {},
   "outputs": [],
   "source": [
    "import pandas as pd\n",
    "import numpy as np\n",
    "import matplotlib.pyplot as plt\n",
    "import seaborn as sns\n",
    "import json\n",
    "from datetime import datetime\n",
    "import random"
   ]
  },
  {
   "cell_type": "markdown",
   "metadata": {},
   "source": [
    "# Base de dados"
   ]
  },
  {
   "cell_type": "code",
   "execution_count": 22,
   "metadata": {},
   "outputs": [],
   "source": [
    "df = pd.read_excel('../Base120.xlsx')"
   ]
  },
  {
   "cell_type": "code",
   "execution_count": 23,
   "metadata": {},
   "outputs": [],
   "source": [
    "def filtra_por_solucao(df, vet_solucao):\n",
    "    '''Recebe um vetor solução e retorna o df filtrado para essa solução'''\n",
    "    stand_prescription_map = {i + 1: vet_solucao[i] for i in range(len(vet_solucao))}\n",
    "    filtered_df = df[df.apply(lambda row: row['prescrição'] == stand_prescription_map.get(row['talhao']), axis=1)]\n",
    "    return filtered_df\n",
    "\n",
    "def calcula_volume(result):\n",
    "\t\"\"\"\n",
    "\tCalculate the volume by summing specific columns of a DataFrame.\n",
    "\tThis function takes a DataFrame `result` and returns the sum of the values\n",
    "\tin columns 3 to 18 (inclusive).\n",
    "\tParameters:\n",
    "\tresult (pandas.DataFrame): The input DataFrame containing the data.\n",
    "\tReturns:\n",
    "\tpandas.Series: A Series containing the sum of the specified columns.\n",
    "\t\"\"\"\n",
    "\t\n",
    "    \n",
    "\treturn result.iloc[:, 3:19].sum()\n",
    "\n",
    "def calcula_penalidade(volume_anual):\n",
    "    '''retorna penalidade por volume excedente/faltante (R$500)'''\n",
    "    upper = []\n",
    "    lower = []\n",
    "    for v_ano in volume_anual:\n",
    "        if v_ano < 140000:\n",
    "            lower.append(np.abs(v_ano - 140000))\n",
    "        elif v_ano > 160000:\n",
    "            upper.append(np.abs(v_ano - 160000))\n",
    "    return np.sum(upper + lower)*500\n",
    "\n",
    "def calcula_vpl_aux(result, volume_ano):\n",
    "    '''Calcula o VPL penalizado (função auxiliar)'''\n",
    "    return np.sum(result['VPL']) - calcula_penalidade(volume_ano)\n",
    "\n",
    "def plota_volume(df, vet_sol):\n",
    "    '''Plota o gráfico do volume nos anos'''\n",
    "    volume_ano = filtra_por_solucao(df, vet_sol).iloc[:, 3:19].sum()\n",
    "    (volume_ano/1000).plot(kind='bar')\n",
    "    plt.hlines(140, xmin=-1, xmax=16, color='red', alpha=.6)\n",
    "    plt.hlines(160, xmin=-1, xmax=16, color='red', alpha=.6)\n",
    "    plt.title(\"Volume de madeira por ano\")\n",
    "    plt.xlabel(\"Ano de Produção\")\n",
    "    plt.ylabel(\"Volume (1000 m$^3$)\")\n",
    "\n",
    "def calcula_volume_aux(df, vet_sol):\n",
    "\t\"\"\"\n",
    "\tCalculate the auxiliary volume based on the given solution vector.\n",
    "\tThis function filters the DataFrame `df` using the solution vector `vet_sol`\n",
    "\tand then sums the values in columns 3 to 18 (inclusive) of the filtered DataFrame.\n",
    "\tParameters:\n",
    "\tdf (pandas.DataFrame): The input DataFrame containing the data.\n",
    "\tvet_sol (list or array-like): The solution vector used to filter the DataFrame.\n",
    "\tReturns:\n",
    "\tpandas.Series: A Series containing the sum of the values in columns 3 to 18 of the filtered DataFrame.\n",
    "\t\"\"\"\n",
    "    \n",
    "\treturn filtra_por_solucao(df, vet_sol).iloc[:, 3:19].sum()\n",
    "\n",
    "def calcula_vpl_total(df, vet_solucao):\n",
    "    '''Calcula o VPL total penalizado'''\n",
    "    result = filtra_por_solucao(df, vet_solucao)\n",
    "    volume_ano = calcula_volume(result)\n",
    "    return calcula_vpl_aux(result, volume_ano)\n",
    "\n",
    "def encontra_pior_ano(df, sol):\n",
    "    volume_ano = calcula_volume_aux(df, sol)\n",
    "    return np.argmax(np.abs(volume_ano-160000)) + 1\n",
    "\n",
    "def numpy_to_python(obj):\n",
    "    '''Converte np.int e np.float para int e float dos dados do dicionário'''\n",
    "    if isinstance(obj, (np.integer, np.floating)):\n",
    "        return obj.item()\n",
    "    \n",
    "def python_to_numpy(dicionario):\n",
    "    '''Converte int e float para np.int e np.float dos dados do dicionário'''\n",
    "    for chave, subdict in dicionario.items():\n",
    "        for subchave, valor in subdict.items():\n",
    "            if isinstance(valor, int):\n",
    "                subdict[subchave] = np.int64(valor)\n",
    "            elif isinstance(valor, float):\n",
    "                subdict[subchave] = np.float64(valor)\n",
    "                \n",
    "    dicionario = {np.int64(key): valor for key, valor in dicionario.items()}\n",
    "    return dicionario"
   ]
  },
  {
   "cell_type": "markdown",
   "metadata": {},
   "source": [
    "---\n",
    "\n",
    "## Alteração na base de dados"
   ]
  },
  {
   "cell_type": "code",
   "execution_count": 24,
   "metadata": {},
   "outputs": [],
   "source": [
    "df_2 = df.drop_duplicates(subset=['talhao'] + df.columns[3:].tolist(), keep='first')\n",
    "df_2.to_csv('../base_reduzida.csv', index=False)"
   ]
  },
  {
   "cell_type": "markdown",
   "metadata": {},
   "source": [
    "---"
   ]
  },
  {
   "cell_type": "markdown",
   "metadata": {},
   "source": [
    "# Algoritmo Genético"
   ]
  },
  {
   "cell_type": "markdown",
   "metadata": {},
   "source": [
    "## Soluções importadas\n"
   ]
  },
  {
   "cell_type": "code",
   "execution_count": 25,
   "metadata": {},
   "outputs": [],
   "source": [
    "with open(\"../solucoes_alpha.json\", \"r\") as arquivo: # soluções geradas por heurística construtiva\n",
    "    solucoes_alpha = json.load(arquivo)\n",
    "solucoes_alpha = [np.array(sol) for sol in solucoes_alpha]"
   ]
  },
  {
   "cell_type": "code",
   "execution_count": 26,
   "metadata": {},
   "outputs": [],
   "source": [
    "class solucao:\n",
    "    def __init__(self, sol):\n",
    "        self.sol = sol\n",
    "        self.vpl = calcula_vpl_total(df_2, self.sol)\n",
    "        global count_func_obj\n",
    "        count_func_obj += 1\n",
    "    \n",
    "    def recalcula_vpl(self):\n",
    "        self.vpl = calcula_vpl_total(df_2, self.sol)\n",
    "        global count_func_obj\n",
    "        count_func_obj += 1"
   ]
  },
  {
   "cell_type": "code",
   "execution_count": 45,
   "metadata": {},
   "outputs": [],
   "source": [
    "import numpy as np\n",
    "import random\n",
    "\n",
    "def set_seed(seed_value=42):\n",
    "    np.random.seed(seed_value)\n",
    "    random.seed(seed_value)\n",
    "\n",
    "def gera_populacao_inicial(n_pop, n_talhoes=120, perc_aleatoria=0.8) -> list[solucao]:\n",
    "    \n",
    "    populacao = [solucao(sol) for sol in np.random.randint(1, 121, size=(round(n_pop*perc_aleatoria), n_talhoes))]  # pop aleatória\n",
    "    melhor_sol = solucoes_alpha[0]\n",
    "    \n",
    "    global melhor_global\n",
    "    melhor_global = solucao(melhor_sol)\n",
    "    \n",
    "    for _ in range(n_pop-round(n_pop*perc_aleatoria)): # quantidade soluções semi boas\n",
    "        sol = np.copy(melhor_sol)\n",
    "        random.shuffle(sol)\n",
    "        populacao.append(solucao(sol))\n",
    "    return populacao\n",
    "\n",
    "def selecao(populacao, metodo='torneio') -> np.ndarray[solucao]:\n",
    "    \n",
    "    pares = np.array([[],[]])\n",
    "    tam_torneio = 0.15\n",
    "\n",
    "    for _ in range(round(len(populacao) / 2)): # quantidade de pares\n",
    "        populacao_aux = populacao.copy()\n",
    "        pop_torneio1 = random.sample(populacao_aux, round(len(populacao_aux) * tam_torneio))\n",
    "        p1 = max(pop_torneio1, key=lambda sol_torneio: sol_torneio.vpl)\n",
    "        populacao_aux.remove(p1)\n",
    "        \n",
    "        pop_torneio2 = random.sample(populacao_aux, round(len(populacao_aux) * tam_torneio))\n",
    "        p2 = max(pop_torneio2, key=lambda sol_torneio: sol_torneio.vpl)\n",
    "        pares = np.append(pares, [[p1], [p2]])\n",
    "        \n",
    "    return pares.reshape(round(len(populacao)/2), 2)\n",
    "\n",
    "def recombinacao(pares, prob_mutacao) -> list[solucao]:\n",
    "    \n",
    "    global melhor_global\n",
    "    filhos = []\n",
    "    pontos_crossover = [round(len(pares[0][0].sol) * random.random()) for _ in range(2)]\n",
    "    pontos_crossover.sort()\n",
    "    crossover1 = pontos_crossover[0]\n",
    "    crossover2 = pontos_crossover[1]\n",
    "    \n",
    "    for pai1, pai2 in pares:\n",
    "        filho1 = solucao(np.concatenate((pai1.sol[:crossover1], \n",
    "                                         pai2.sol[crossover1:crossover2], \n",
    "                                         pai1.sol[crossover2:])))\n",
    "        \n",
    "        filho2 = solucao(np.concatenate((pai2.sol[:crossover1], \n",
    "                                         pai1.sol[crossover1:crossover2], \n",
    "                                         pai2.sol[crossover2:])))\n",
    "        \n",
    "        if random.random() < prob_mutacao:\n",
    "            mutacao(filho1)\n",
    "        if random.random() < prob_mutacao:\n",
    "            mutacao(filho2)\n",
    "            \n",
    "        melhor_global = max(filho1, filho2, melhor_global, key=lambda aux: aux.vpl) # atualiza melhor_solucao\n",
    "        filhos.append(filho1)\n",
    "        filhos.append(filho2)\n",
    "    return filhos\n",
    "    \n",
    "def mutacao(filho) -> None:\n",
    "    talhao_sorteado = random.randrange(1, 121)\n",
    "    presc_sorteada = random.choice(df_2[df_2['talhao'] == (talhao_sorteado)]['prescrição'].unique())\n",
    "    filho.sol[talhao_sorteado-1] = presc_sorteada\n",
    "    filho.recalcula_vpl()\n",
    "\n",
    "def substituicao(pais, filhos, prop_elite=0.2) -> list[solucao]:\n",
    "    ''' Mantem prop_elite% dos melhores pais mais o restante dos filhos aleatórios '''\n",
    "    \n",
    "    n_elite = int(prop_elite * len(pais))\n",
    "    pais_elite = pais.copy()\n",
    "    pais_elite.sort(key=lambda sol_torneio: sol_torneio.vpl, reverse=True)\n",
    "    return pais_elite[:n_elite] + random.sample(filhos, len(pais) - n_elite)\n",
    "\n",
    "def calcula_estatisticas(populacao, estatisticas) -> dict:\n",
    "    lista_vpl = [sol.vpl for sol in populacao]\n",
    "    estatisticas['media'].append(np.mean(lista_vpl))\n",
    "    estatisticas['std'].append(np.std(lista_vpl))\n",
    "    estatisticas['max'].append(np.max(lista_vpl))\n",
    "    estatisticas['min'].append(np.min(lista_vpl))\n"
   ]
  },
  {
   "cell_type": "code",
   "execution_count": null,
   "metadata": {},
   "outputs": [],
   "source": [
    "[np.int64(-202586846), np.int64(-199376239), np.int64(-250197205)]"
   ]
  },
  {
   "cell_type": "code",
   "execution_count": 88,
   "metadata": {},
   "outputs": [
    {
     "name": "stdout",
     "output_type": "stream",
     "text": [
      "[np.int64(-202586846), np.int64(-199376239), np.int64(-250197205), np.int64(-249336340)]\n"
     ]
    }
   ],
   "source": [
    "a = []\n",
    "\n",
    "set_seed(41)\n",
    "for _ in range(4): # num de experimentos\n",
    "    melhor_global = None\n",
    "    count_func_obj = 0\n",
    "    estatisticas = {'media':[], 'std':[], 'max':[], 'min':[]} # estatísticas da população\n",
    "    populacao = gera_populacao_inicial(20) # pais\n",
    "    \n",
    "    # while count_func_obj < 500:\n",
    "    for _ in range(50): # num de gerações\n",
    "        calcula_estatisticas(populacao, estatisticas)\n",
    "        pares = selecao(populacao)\n",
    "        filhos = recombinacao(pares, prob_mutacao=0.05)\n",
    "        populacao = substituicao(populacao, filhos, prop_elite=0.2)\n",
    "    a.append(melhor_global.vpl)\n",
    "    \n",
    "# print(melhor_global.vpl)\n",
    "print(a)"
   ]
  },
  {
   "cell_type": "code",
   "execution_count": 75,
   "metadata": {},
   "outputs": [
    {
     "name": "stdout",
     "output_type": "stream",
     "text": [
      "503\n",
      "[np.float64(217448661.19400078), np.float64(217992658.15211242), np.float64(132181806.1630694), np.float64(36725263.89106944), np.float64(27460767.312750947), np.float64(20223342.437070455), np.float64(15465316.597951755), np.float64(20820262.985259064), np.float64(13882189.166493192), np.float64(4601369.622701983), np.float64(1165856.2500093225), np.float64(1148094.2598210045), np.float64(391549.2127958471), np.float64(786829.6446074891), np.float64(950367.9253089248), np.float64(2311714.543838929), np.float64(391549.21279584704), np.float64(0.0), np.float64(3408.658973848807), np.float64(0.0), np.float64(555868.5877750244), np.float64(1970185.5149913798), np.float64(4076039.1387753696)]\n"
     ]
    }
   ],
   "source": [
    "print(count_func_obj)\n",
    "print(estatisticas['std'])"
   ]
  },
  {
   "cell_type": "code",
   "execution_count": 31,
   "metadata": {},
   "outputs": [
    {
     "data": {
      "text/plain": [
       "[<matplotlib.lines.Line2D at 0x2a59d3d8550>]"
      ]
     },
     "execution_count": 31,
     "metadata": {},
     "output_type": "execute_result"
    },
    {
     "data": {
      "image/png": "[encoded data removed]",
      "text/plain": [
       "<Figure size 640x480 with 1 Axes>"
      ]
     },
     "metadata": {},
     "output_type": "display_data"
    }
   ],
   "source": [
    "plt.plot(estatisticas['media'])"
   ]
  }
 ],
 "metadata": {
  "kernelspec": {
   "display_name": "Python 3",
   "language": "python",
   "name": "python3"
  },
  "language_info": {
   "codemirror_mode": {
    "name": "ipython",
    "version": 3
   },
   "file_extension": ".py",
   "mimetype": "text/x-python",
   "name": "python",
   "nbconvert_exporter": "python",
   "pygments_lexer": "ipython3",
   "version": "3.13.0"
  }
 },
 "nbformat": 4,
 "nbformat_minor": 2
}
