{
 "cells": [
  {
   "cell_type": "code",
   "execution_count": 17,
   "metadata": {},
   "outputs": [],
   "source": [
    "import pandas as pd\n",
    "import numpy as np\n",
    "import matplotlib.pyplot as plt\n",
    "import seaborn as sns\n",
    "import time\n",
    "import json\n",
    "from datetime import datetime\n",
    "import random"
   ]
  },
  {
   "cell_type": "markdown",
   "metadata": {},
   "source": [
    "# Base de dados"
   ]
  },
  {
   "cell_type": "code",
   "execution_count": 2,
   "metadata": {},
   "outputs": [],
   "source": [
    "df = pd.read_excel('../Base120.xlsx')"
   ]
  },
  {
   "cell_type": "code",
   "execution_count": 3,
   "metadata": {},
   "outputs": [],
   "source": [
    "def filtra_por_solucao(df, vet_solucao):\n",
    "    '''Recebe um vetor solução e retorna o df filtrado para essa solução'''\n",
    "    stand_prescription_map = {i + 1: vet_solucao[i] for i in range(len(vet_solucao))}\n",
    "    filtered_df = df[df.apply(lambda row: row['prescrição'] == stand_prescription_map.get(row['talhao']), axis=1)]\n",
    "    return filtered_df\n",
    "\n",
    "def calcula_volume(result):\n",
    "\t\"\"\"\n",
    "\tCalculate the volume by summing specific columns of a DataFrame.\n",
    "\tThis function takes a DataFrame `result` and returns the sum of the values\n",
    "\tin columns 3 to 18 (inclusive).\n",
    "\tParameters:\n",
    "\tresult (pandas.DataFrame): The input DataFrame containing the data.\n",
    "\tReturns:\n",
    "\tpandas.Series: A Series containing the sum of the specified columns.\n",
    "\t\"\"\"\n",
    "\t\n",
    "    \n",
    "\treturn result.iloc[:, 3:19].sum()\n",
    "\n",
    "def calcula_penalidade(volume_anual):\n",
    "    '''retorna penalidade por volume excedente/faltante (R$500)'''\n",
    "    upper = []\n",
    "    lower = []\n",
    "    for v_ano in volume_anual:\n",
    "        if v_ano < 140000:\n",
    "            lower.append(np.abs(v_ano - 140000))\n",
    "        elif v_ano > 160000:\n",
    "            upper.append(np.abs(v_ano - 160000))\n",
    "    return np.sum(upper + lower)*500\n",
    "\n",
    "def calcula_vpl_aux(result, volume_ano):\n",
    "    '''Calcula o VPL penalizado (função auxiliar)'''\n",
    "    return np.sum(result['VPL']) - calcula_penalidade(volume_ano)\n",
    "\n",
    "def plota_volume(df, vet_sol):\n",
    "    '''Plota o gráfico do volume nos anos'''\n",
    "    volume_ano = filtra_por_solucao(df, vet_sol).iloc[:, 3:19].sum()\n",
    "    (volume_ano/1000).plot(kind='bar')\n",
    "    plt.hlines(140, xmin=-1, xmax=16, color='red', alpha=.6)\n",
    "    plt.hlines(160, xmin=-1, xmax=16, color='red', alpha=.6)\n",
    "    plt.title(\"Volume de madeira por ano\")\n",
    "    plt.xlabel(\"Ano de Produção\")\n",
    "    plt.ylabel(\"Volume (1000 m$^3$)\")\n",
    "\n",
    "def calcula_volume_aux(df, vet_sol):\n",
    "\t\"\"\"\n",
    "\tCalculate the auxiliary volume based on the given solution vector.\n",
    "\tThis function filters the DataFrame `df` using the solution vector `vet_sol`\n",
    "\tand then sums the values in columns 3 to 18 (inclusive) of the filtered DataFrame.\n",
    "\tParameters:\n",
    "\tdf (pandas.DataFrame): The input DataFrame containing the data.\n",
    "\tvet_sol (list or array-like): The solution vector used to filter the DataFrame.\n",
    "\tReturns:\n",
    "\tpandas.Series: A Series containing the sum of the values in columns 3 to 18 of the filtered DataFrame.\n",
    "\t\"\"\"\n",
    "    \n",
    "\treturn filtra_por_solucao(df, vet_sol).iloc[:, 3:19].sum()\n",
    "\n",
    "def calcula_vpl_total(df, vet_solucao):\n",
    "    '''Calcula o VPL total penalizado'''\n",
    "    result = filtra_por_solucao(df, vet_solucao)\n",
    "    volume_ano = calcula_volume(result)\n",
    "    return calcula_vpl_aux(result, volume_ano)\n",
    "\n",
    "def encontra_pior_ano(df, sol):\n",
    "    volume_ano = calcula_volume_aux(df, sol)\n",
    "    return np.argmax(np.abs(volume_ano-160000)) + 1\n",
    "\n",
    "def numpy_to_python(obj):\n",
    "    '''Converte np.int e np.float para int e float dos dados do dicionário'''\n",
    "    if isinstance(obj, (np.integer, np.floating)):\n",
    "        return obj.item()\n",
    "    \n",
    "def python_to_numpy(dicionario):\n",
    "    '''Converte int e float para np.int e np.float dos dados do dicionário'''\n",
    "    for chave, subdict in dicionario.items():\n",
    "        for subchave, valor in subdict.items():\n",
    "            if isinstance(valor, int):\n",
    "                subdict[subchave] = np.int64(valor)\n",
    "            elif isinstance(valor, float):\n",
    "                subdict[subchave] = np.float64(valor)\n",
    "                \n",
    "    dicionario = {np.int64(key): valor for key, valor in dicionario.items()}\n",
    "    return dicionario"
   ]
  },
  {
   "cell_type": "markdown",
   "metadata": {},
   "source": [
    "---\n",
    "\n",
    "## Alteração na base de dados"
   ]
  },
  {
   "cell_type": "code",
   "execution_count": 4,
   "metadata": {},
   "outputs": [],
   "source": [
    "df_2 = df.drop_duplicates(subset=['talhao'] + df.columns[3:].tolist(), keep='first')\n",
    "df_2.to_csv('../base_reduzida.csv', index=False)"
   ]
  },
  {
   "cell_type": "markdown",
   "metadata": {},
   "source": [
    "---"
   ]
  },
  {
   "cell_type": "markdown",
   "metadata": {},
   "source": [
    "# Algoritmo Genético"
   ]
  },
  {
   "cell_type": "markdown",
   "metadata": {},
   "source": [
    "## Soluções importadas\n"
   ]
  },
  {
   "cell_type": "code",
   "execution_count": 14,
   "metadata": {},
   "outputs": [],
   "source": [
    "with open(\"../solucoes_alpha.json\", \"r\") as arquivo: # soluções geradas por heurística construtiva\n",
    "    solucoes_alpha = json.load(arquivo)\n",
    "solucoes_alpha = [np.array(sol) for sol in solucoes_alpha]"
   ]
  },
  {
   "cell_type": "code",
   "execution_count": 19,
   "metadata": {},
   "outputs": [
    {
     "data": {
      "text/plain": [
       "array([37, 37, 37, 37, 37, 37, 37, 37, 37, 37, 37, 37, 40, 64, 40, 40, 64,\n",
       "       64, 40, 40, 40, 64, 64, 40, 40, 40, 40, 64, 40, 40, 64, 40, 64, 40,\n",
       "       43, 67, 67, 67, 67, 43, 67, 67, 67, 67, 43, 67, 43, 43, 43, 67, 67,\n",
       "       67, 67, 67, 67, 43, 67, 43, 67, 67, 43, 67, 43, 43, 43, 43, 52, 52,\n",
       "       52, 52, 52, 52, 52, 52, 76, 76, 52, 52, 52, 76, 76, 52, 79, 79, 79,\n",
       "       79, 79, 79, 79, 79, 79, 28, 79, 79, 79, 79, 79, 79, 79, 79, 28, 79,\n",
       "       79, 79, 79, 79, 10, 10, 10, 10, 10, 10, 79, 10, 10, 10, 10, 10, 10,\n",
       "       10])"
      ]
     },
     "execution_count": 19,
     "metadata": {},
     "output_type": "execute_result"
    }
   ],
   "source": [
    "sol = solucoes_alpha[0]\n",
    "sol"
   ]
  },
  {
   "cell_type": "code",
   "execution_count": 24,
   "metadata": {},
   "outputs": [
    {
     "ename": "IndexError",
     "evalue": "too many indices for array: array is 1-dimensional, but 3 were indexed",
     "output_type": "error",
     "traceback": [
      "\u001b[1;31m---------------------------------------------------------------------------\u001b[0m",
      "\u001b[1;31mIndexError\u001b[0m                                Traceback (most recent call last)",
      "Cell \u001b[1;32mIn[24], line 1\u001b[0m\n\u001b[1;32m----> 1\u001b[0m np\u001b[38;5;241m.\u001b[39mrandom\u001b[38;5;241m.\u001b[39mshuffle(\u001b[43msol\u001b[49m\u001b[43m[\u001b[49m\u001b[38;5;241;43m1\u001b[39;49m\u001b[43m,\u001b[49m\u001b[38;5;241;43m2\u001b[39;49m\u001b[43m,\u001b[49m\u001b[38;5;241;43m3\u001b[39;49m\u001b[43m]\u001b[49m)\n",
      "\u001b[1;31mIndexError\u001b[0m: too many indices for array: array is 1-dimensional, but 3 were indexed"
     ]
    }
   ],
   "source": [
    "np.random.shuffle(sol[1,2,3])"
   ]
  },
  {
   "cell_type": "code",
   "execution_count": 28,
   "metadata": {},
   "outputs": [
    {
     "ename": "TypeError",
     "evalue": "'numpy.ndarray' object is not callable",
     "output_type": "error",
     "traceback": [
      "\u001b[1;31m---------------------------------------------------------------------------\u001b[0m",
      "\u001b[1;31mTypeError\u001b[0m                                 Traceback (most recent call last)",
      "Cell \u001b[1;32mIn[28], line 1\u001b[0m\n\u001b[1;32m----> 1\u001b[0m \u001b[43msol\u001b[49m\u001b[43m(\u001b[49m\u001b[38;5;241;43m1\u001b[39;49m\u001b[43m)\u001b[49m\n",
      "\u001b[1;31mTypeError\u001b[0m: 'numpy.ndarray' object is not callable"
     ]
    }
   ],
   "source": [
    "sol(1)"
   ]
  },
  {
   "cell_type": "code",
   "execution_count": 16,
   "metadata": {},
   "outputs": [
    {
     "data": {
      "text/plain": [
       "array([[ 46,  30,  88, 106,  99,  62,  66, 106, 101,  79,  39,  14,  33,\n",
       "         12,  67,   4,  87,  94,  90,   4, 107, 100, 114,  47,  12, 112,\n",
       "         30,   2,  35,  48,  77,  95, 114,  62,  55,   5,  22,  20,  13,\n",
       "         68,  59,  68,  12,  33,  24,  90, 120,  21,  22,  24, 119,  89,\n",
       "        117,  14,  98, 107,  73,  42,   8,  58,   3,  70,  41,  17,  26,\n",
       "         90,  24, 112,   9,  93, 112,  37,  10,  16,  12,  12,  79,  46,\n",
       "         75, 107,  74,  65,  48,  87,  50,  15, 110,  65,   9,  70,  29,\n",
       "        120,  93,  30,  66,  35,  76,  91,  23,  90,  59,  36,  25,  86,\n",
       "        101,  24,  19,  67,  15,  16,  35,  54,  67,  42, 103,  38,  15,\n",
       "         20,  81,  93],\n",
       "       [ 76, 102, 112,  68,  34,  65, 109, 116, 116,  54,  32,  31,  90,\n",
       "         64,  50,  28,  71,  62, 115,  97,  86,  31, 110,  85, 119,  98,\n",
       "          9,  24,  29,   7, 112, 113,  74,  95, 114,   9,  68,  44,   3,\n",
       "         63,  94,  59,  54,  73,  40,  86,  62,  73,  46,  77,  23,  13,\n",
       "          6, 120, 104, 120,  73,  54, 110,  45,  58,   3,  79,  20,  50,\n",
       "          2,  40,  17,  63,  65, 107,  54,  14,  36,  76,  21,  68, 117,\n",
       "         77,  39,  30,  60, 103,  10,  62, 117,   1,  46, 105,  68,  63,\n",
       "        118,  47,  26,  33,  71,  87,  98,  13,  46,  39,  69,  55,  15,\n",
       "         85,  64,  18,  50, 115,  15,  94,  30,  56,   6, 103,  94,  44,\n",
       "         22,  88,  31]], dtype=int32)"
      ]
     },
     "execution_count": 16,
     "metadata": {},
     "output_type": "execute_result"
    }
   ],
   "source": [
    "def gera_populacao_inicial(n_pop, n_talhoes):\n",
    "    '''Gera uma população inicial de soluções'''\n",
    "    populacao = np.random.randint(1, 121, size=(round(n_pop*0.8), n_talhoes))\n",
    "    melhor_sol = solucoes_alpha[2]\n",
    "    for i in range(n_pop-round(n_pop*0.8)):\n",
    "        random.shuffle(melhor_sol)\n",
    "    return populacao\n",
    "gera_populacao_inicial(20, 120)"
   ]
  }
 ],
 "metadata": {
  "kernelspec": {
   "display_name": "Python 3",
   "language": "python",
   "name": "python3"
  },
  "language_info": {
   "codemirror_mode": {
    "name": "ipython",
    "version": 3
   },
   "file_extension": ".py",
   "mimetype": "text/x-python",
   "name": "python",
   "nbconvert_exporter": "python",
   "pygments_lexer": "ipython3",
   "version": "3.13.0"
  }
 },
 "nbformat": 4,
 "nbformat_minor": 2
}
