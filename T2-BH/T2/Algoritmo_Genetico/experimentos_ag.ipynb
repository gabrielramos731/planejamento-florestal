{
 "cells": [
  {
   "cell_type": "code",
   "execution_count": 1,
   "metadata": {},
   "outputs": [],
   "source": [
    "import pandas as pd\n",
    "import numpy as np\n",
    "import matplotlib.pyplot as plt\n",
    "import seaborn as sns\n",
    "import json\n",
    "from datetime import datetime\n",
    "import random"
   ]
  },
  {
   "cell_type": "markdown",
   "metadata": {},
   "source": [
    "# Base de dados"
   ]
  },
  {
   "cell_type": "code",
   "execution_count": 2,
   "metadata": {},
   "outputs": [],
   "source": [
    "df = pd.read_excel('../Base120.xlsx')"
   ]
  },
  {
   "cell_type": "code",
   "execution_count": 3,
   "metadata": {},
   "outputs": [],
   "source": [
    "def filtra_por_solucao(df, vet_solucao):\n",
    "    '''Recebe um vetor solução e retorna o df filtrado para essa solução'''\n",
    "    stand_prescription_map = {i + 1: vet_solucao[i] for i in range(len(vet_solucao))}\n",
    "    filtered_df = df[df.apply(lambda row: row['prescrição'] == stand_prescription_map.get(row['talhao']), axis=1)]\n",
    "    return filtered_df\n",
    "\n",
    "def calcula_volume(result):\n",
    "\t\"\"\"\n",
    "\tCalculate the volume by summing specific columns of a DataFrame.\n",
    "\tThis function takes a DataFrame `result` and returns the sum of the values\n",
    "\tin columns 3 to 18 (inclusive).\n",
    "\tParameters:\n",
    "\tresult (pandas.DataFrame): The input DataFrame containing the data.\n",
    "\tReturns:\n",
    "\tpandas.Series: A Series containing the sum of the specified columns.\n",
    "\t\"\"\"\n",
    "\t\n",
    "    \n",
    "\treturn result.iloc[:, 3:19].sum()\n",
    "\n",
    "def calcula_penalidade(volume_anual):\n",
    "    '''retorna penalidade por volume excedente/faltante (R$500)'''\n",
    "    upper = []\n",
    "    lower = []\n",
    "    for v_ano in volume_anual:\n",
    "        if v_ano < 140000:\n",
    "            lower.append(np.abs(v_ano - 140000))\n",
    "        elif v_ano > 160000:\n",
    "            upper.append(np.abs(v_ano - 160000))\n",
    "    return np.sum(upper + lower)*500\n",
    "\n",
    "def calcula_vpl_aux(result, volume_ano):\n",
    "    '''Calcula o VPL penalizado (função auxiliar)'''\n",
    "    return np.sum(result['VPL']) - calcula_penalidade(volume_ano)\n",
    "\n",
    "def plota_volume(df, vet_sol):\n",
    "    '''Plota o gráfico do volume nos anos'''\n",
    "    volume_ano = filtra_por_solucao(df, vet_sol).iloc[:, 3:19].sum()\n",
    "    (volume_ano/1000).plot(kind='bar')\n",
    "    plt.hlines(140, xmin=-1, xmax=16, color='red', alpha=.6)\n",
    "    plt.hlines(160, xmin=-1, xmax=16, color='red', alpha=.6)\n",
    "    plt.title(\"Volume de madeira por ano\")\n",
    "    plt.xlabel(\"Ano de Produção\")\n",
    "    plt.ylabel(\"Volume (1000 m$^3$)\")\n",
    "\n",
    "def calcula_volume_aux(df, vet_sol):\n",
    "\t\"\"\"\n",
    "\tCalculate the auxiliary volume based on the given solution vector.\n",
    "\tThis function filters the DataFrame `df` using the solution vector `vet_sol`\n",
    "\tand then sums the values in columns 3 to 18 (inclusive) of the filtered DataFrame.\n",
    "\tParameters:\n",
    "\tdf (pandas.DataFrame): The input DataFrame containing the data.\n",
    "\tvet_sol (list or array-like): The solution vector used to filter the DataFrame.\n",
    "\tReturns:\n",
    "\tpandas.Series: A Series containing the sum of the values in columns 3 to 18 of the filtered DataFrame.\n",
    "\t\"\"\"\n",
    "    \n",
    "\treturn filtra_por_solucao(df, vet_sol).iloc[:, 3:19].sum()\n",
    "\n",
    "def calcula_vpl_total(df, vet_solucao):\n",
    "    '''Calcula o VPL total penalizado'''\n",
    "    result = filtra_por_solucao(df, vet_solucao)\n",
    "    volume_ano = calcula_volume(result)\n",
    "    return calcula_vpl_aux(result, volume_ano)\n",
    "\n",
    "def encontra_pior_ano(df, sol):\n",
    "    volume_ano = calcula_volume_aux(df, sol)\n",
    "    return np.argmax(np.abs(volume_ano-160000)) + 1\n",
    "\n",
    "def numpy_to_python(obj):\n",
    "    '''Converte np.int e np.float para int e float dos dados do dicionário'''\n",
    "    if isinstance(obj, (np.integer, np.floating)):\n",
    "        return obj.item()\n",
    "    \n",
    "def python_to_numpy(dicionario):\n",
    "    '''Converte int e float para np.int e np.float dos dados do dicionário'''\n",
    "    for chave, subdict in dicionario.items():\n",
    "        for subchave, valor in subdict.items():\n",
    "            if isinstance(valor, int):\n",
    "                subdict[subchave] = np.int64(valor)\n",
    "            elif isinstance(valor, float):\n",
    "                subdict[subchave] = np.float64(valor)\n",
    "                \n",
    "    dicionario = {np.int64(key): valor for key, valor in dicionario.items()}\n",
    "    return dicionario"
   ]
  },
  {
   "cell_type": "markdown",
   "metadata": {},
   "source": [
    "---\n",
    "\n",
    "## Alteração na base de dados"
   ]
  },
  {
   "cell_type": "code",
   "execution_count": 4,
   "metadata": {},
   "outputs": [],
   "source": [
    "df_2 = df.drop_duplicates(subset=['talhao'] + df.columns[3:].tolist(), keep='first')\n",
    "df_2.to_csv('../base_reduzida.csv', index=False)"
   ]
  },
  {
   "cell_type": "markdown",
   "metadata": {},
   "source": [
    "---"
   ]
  },
  {
   "cell_type": "markdown",
   "metadata": {},
   "source": [
    "# Algoritmo Genético"
   ]
  },
  {
   "cell_type": "markdown",
   "metadata": {},
   "source": [
    "## Soluções importadas\n"
   ]
  },
  {
   "cell_type": "code",
   "execution_count": 5,
   "metadata": {},
   "outputs": [],
   "source": [
    "with open(\"../solucoes_alpha.json\", \"r\") as arquivo: # soluções geradas por heurística construtiva\n",
    "    solucoes_alpha = json.load(arquivo)\n",
    "solucoes_alpha = [np.array(sol) for sol in solucoes_alpha]"
   ]
  },
  {
   "cell_type": "code",
   "execution_count": 6,
   "metadata": {},
   "outputs": [],
   "source": [
    "class solucao:\n",
    "    def __init__(self, sol):\n",
    "        self.sol = sol\n",
    "        self.vpl = calcula_vpl_total(df_2, self.sol)\n",
    "        global count_func_obj\n",
    "        count_func_obj += 1\n",
    "    \n",
    "    def recalcula_vpl(self) -> None:\n",
    "        self.vpl = calcula_vpl_total(df_2, self.sol)\n",
    "        global count_func_obj\n",
    "        count_func_obj += 1"
   ]
  },
  {
   "cell_type": "code",
   "execution_count": 40,
   "metadata": {},
   "outputs": [],
   "source": [
    "# ok\n",
    "def set_seed(seed_value=42) -> None:\n",
    "    np.random.seed(seed_value)\n",
    "    random.seed(seed_value)\n",
    "\n",
    "# ok\n",
    "def gera_populacao_inicial(n_pop, n_talhoes=120, perc_aleatoria=0.8) -> list[solucao]:\n",
    "    \n",
    "    global melhor_global\n",
    "    populacao = [solucao(sol) for sol in np.random.randint(1, 121, size=(round(n_pop*perc_aleatoria), n_talhoes))]  # pop aleatória\n",
    "    melhor_sol = solucoes_alpha[2]\n",
    "    \n",
    "    for _ in range(n_pop-round(n_pop*perc_aleatoria)): # quantidade soluções semi boas\n",
    "        sol = np.copy(melhor_sol)\n",
    "        random.shuffle(sol) # embaralha solução semi boa\n",
    "        populacao.append(solucao(sol))\n",
    "        \n",
    "    melhor_global = max(populacao, key=lambda sol: sol.vpl)\n",
    "    return populacao\n",
    "\n",
    "# ok\n",
    "def selecao(populacao, tam_torneio=4, metodo='torneio') -> np.ndarray[solucao]:\n",
    "    \n",
    "    pares = np.array([[],[]])\n",
    "\n",
    "    # olhar probabilidade de cruzamento!!!\n",
    "    for _ in range(round(len(populacao) / 2)): # quantidade de pares\n",
    "        populacao_aux = populacao.copy()\n",
    "        pop_torneio1 = random.sample(populacao_aux, tam_torneio)\n",
    "        p1 = max(pop_torneio1, key=lambda sol_torneio: sol_torneio.vpl)\n",
    "        populacao_aux.remove(p1)\n",
    "        \n",
    "        pop_torneio2 = random.sample(populacao_aux, tam_torneio)\n",
    "        p2 = max(pop_torneio2, key=lambda sol_torneio: sol_torneio.vpl)\n",
    "        pares = np.append(pares, [[p1], [p2]])\n",
    "        \n",
    "    return pares.reshape(round(len(populacao)/2), 2)\n",
    "\n",
    "# ok\n",
    "def recombinacao(pares, prob_mutacao) -> list[solucao]:\n",
    "    \n",
    "    global melhor_global\n",
    "    filhos = []\n",
    "    \n",
    "    for pai1, pai2 in pares:\n",
    "        pontos_crossover = [round(len(pares[0][0].sol) * random.random()) for _ in range(2)] # deixar apenas um crossover\n",
    "        pontos_crossover.sort()\n",
    "        crossover1 = pontos_crossover[0]\n",
    "        # crossover2 = pontos_crossover[1]\n",
    "        \n",
    "        filho1 = solucao(np.concatenate((pai1.sol[:crossover1], \n",
    "                                         pai2.sol[crossover1:])))\n",
    "        \n",
    "        filho2 = solucao(np.concatenate((pai2.sol[:crossover1], \n",
    "                                         pai1.sol[crossover1:])))\n",
    "        \n",
    "        melhor_global = max(melhor_global, filho1, filho2, key=lambda aux: aux.vpl) # atualiza melhor_solucao antes da mutação\n",
    "        if random.random() < prob_mutacao:\n",
    "            mutacao(filho1)\n",
    "            melhor_global = max(melhor_global, filho1, key=lambda aux: aux.vpl) # atualiza melhor_solucao após mutação\n",
    "        if random.random() < prob_mutacao:\n",
    "            mutacao(filho2)\n",
    "            melhor_global = max(melhor_global, filho2, key=lambda aux: aux.vpl) # atualiza melhor_solucao após mutação\n",
    "        \n",
    "        filhos.append(filho1)\n",
    "        filhos.append(filho2)\n",
    "    return filhos\n",
    "\n",
    "# ok\n",
    "def mutacao(filho) -> None:\n",
    "    talhoes_sorteados = [random.randrange(1, 121) for _ in range(2)]\n",
    "    filho.sol[talhoes_sorteados[0]-1], filho.sol[talhoes_sorteados[1]-1] = filho.sol[talhoes_sorteados[1]-1], filho.sol[talhoes_sorteados[0]-1] # swap\n",
    "    filho.recalcula_vpl()\n",
    "\n",
    "# ok\n",
    "def substituicao(pais, filhos, n_elite=10, tam_torneio=4) -> list[solucao]:\n",
    "    ''' Mantem prop_elite% dos melhores pais mais o restante dos filhos aleatórios '''\n",
    "    \n",
    "    nova_pop = pais + filhos\n",
    "    nova_pop = nova_pop.copy()\n",
    "    nova_pop.sort(key=lambda sol: sol.vpl, reverse=True)\n",
    "    elite = nova_pop[:n_elite]\n",
    "    pop_restante = nova_pop[n_elite:]\n",
    "    pop_subs = elite.copy()\n",
    "    \n",
    "    for _ in range(len(pais) - n_elite):\n",
    "        populacao_aux = pop_restante.copy()\n",
    "        pop_torneio1 = random.sample(populacao_aux, tam_torneio)\n",
    "        sol_vencedora = max(pop_torneio1, key=lambda sol_torneio: sol_torneio.vpl)\n",
    "        pop_subs.append(sol_vencedora)\n",
    "        populacao_aux.remove(sol_vencedora)\n",
    "    return pop_subs\n",
    "    \n",
    "    # if melhor_global in filhos:\n",
    "    #     filhos.remove(melhor_global)\n",
    "    #     return nova_pop[:n_elite] + random.sample(filhos, len(pais) - n_elite - 1) + [melhor_global]\n",
    "    # return nova_pop[:n_elite] + random.sample(filhos, len(pais) - n_elite)\n",
    "\n",
    "def calcula_estatisticas(populacao, estatisticas) -> dict:\n",
    "    lista_vpl = [sol.vpl for sol in populacao]\n",
    "    estatisticas['avg'].append(np.mean(lista_vpl))\n",
    "    estatisticas['std'].append(np.std(lista_vpl))\n",
    "    estatisticas['max'].append(np.max(lista_vpl))\n",
    "    estatisticas['min'].append(np.min(lista_vpl))\n"
   ]
  },
  {
   "cell_type": "code",
   "execution_count": 47,
   "metadata": {},
   "outputs": [
    {
     "ename": "KeyboardInterrupt",
     "evalue": "",
     "output_type": "error",
     "traceback": [
      "\u001b[1;31m---------------------------------------------------------------------------\u001b[0m",
      "\u001b[1;31mKeyboardInterrupt\u001b[0m                         Traceback (most recent call last)",
      "Cell \u001b[1;32mIn[47], line 13\u001b[0m\n\u001b[0;32m     11\u001b[0m calcula_estatisticas(populacao, estatisticas)\n\u001b[0;32m     12\u001b[0m pares \u001b[38;5;241m=\u001b[39m selecao(populacao, tam_torneio\u001b[38;5;241m=\u001b[39m\u001b[38;5;241m4\u001b[39m)\n\u001b[1;32m---> 13\u001b[0m filhos \u001b[38;5;241m=\u001b[39m \u001b[43mrecombinacao\u001b[49m\u001b[43m(\u001b[49m\u001b[43mpares\u001b[49m\u001b[43m,\u001b[49m\u001b[43m \u001b[49m\u001b[43mprob_mutacao\u001b[49m\u001b[38;5;241;43m=\u001b[39;49m\u001b[38;5;241;43m0.01\u001b[39;49m\u001b[43m)\u001b[49m\n\u001b[0;32m     14\u001b[0m populacao \u001b[38;5;241m=\u001b[39m substituicao(populacao, filhos, n_elite\u001b[38;5;241m=\u001b[39m\u001b[38;5;241m10\u001b[39m, tam_torneio\u001b[38;5;241m=\u001b[39m\u001b[38;5;241m2\u001b[39m)\n\u001b[0;32m     15\u001b[0m a\u001b[38;5;241m.\u001b[39mappend(melhor_global\u001b[38;5;241m.\u001b[39mvpl)\n",
      "Cell \u001b[1;32mIn[40], line 54\u001b[0m, in \u001b[0;36mrecombinacao\u001b[1;34m(pares, prob_mutacao)\u001b[0m\n\u001b[0;32m     49\u001b[0m \u001b[38;5;66;03m# crossover2 = pontos_crossover[1]\u001b[39;00m\n\u001b[0;32m     51\u001b[0m filho1 \u001b[38;5;241m=\u001b[39m solucao(np\u001b[38;5;241m.\u001b[39mconcatenate((pai1\u001b[38;5;241m.\u001b[39msol[:crossover1], \n\u001b[0;32m     52\u001b[0m                                  pai2\u001b[38;5;241m.\u001b[39msol[crossover1:])))\n\u001b[1;32m---> 54\u001b[0m filho2 \u001b[38;5;241m=\u001b[39m \u001b[43msolucao\u001b[49m\u001b[43m(\u001b[49m\u001b[43mnp\u001b[49m\u001b[38;5;241;43m.\u001b[39;49m\u001b[43mconcatenate\u001b[49m\u001b[43m(\u001b[49m\u001b[43m(\u001b[49m\u001b[43mpai2\u001b[49m\u001b[38;5;241;43m.\u001b[39;49m\u001b[43msol\u001b[49m\u001b[43m[\u001b[49m\u001b[43m:\u001b[49m\u001b[43mcrossover1\u001b[49m\u001b[43m]\u001b[49m\u001b[43m,\u001b[49m\u001b[43m \u001b[49m\n\u001b[0;32m     55\u001b[0m \u001b[43m                                 \u001b[49m\u001b[43mpai1\u001b[49m\u001b[38;5;241;43m.\u001b[39;49m\u001b[43msol\u001b[49m\u001b[43m[\u001b[49m\u001b[43mcrossover1\u001b[49m\u001b[43m:\u001b[49m\u001b[43m]\u001b[49m\u001b[43m)\u001b[49m\u001b[43m)\u001b[49m\u001b[43m)\u001b[49m\n\u001b[0;32m     57\u001b[0m melhor_global \u001b[38;5;241m=\u001b[39m \u001b[38;5;28mmax\u001b[39m(melhor_global, filho1, filho2, key\u001b[38;5;241m=\u001b[39m\u001b[38;5;28;01mlambda\u001b[39;00m aux: aux\u001b[38;5;241m.\u001b[39mvpl) \u001b[38;5;66;03m# atualiza melhor_solucao antes da mutação\u001b[39;00m\n\u001b[0;32m     58\u001b[0m \u001b[38;5;28;01mif\u001b[39;00m random\u001b[38;5;241m.\u001b[39mrandom() \u001b[38;5;241m<\u001b[39m prob_mutacao:\n",
      "Cell \u001b[1;32mIn[6], line 4\u001b[0m, in \u001b[0;36msolucao.__init__\u001b[1;34m(self, sol)\u001b[0m\n\u001b[0;32m      2\u001b[0m \u001b[38;5;28;01mdef\u001b[39;00m \u001b[38;5;21m__init__\u001b[39m(\u001b[38;5;28mself\u001b[39m, sol):\n\u001b[0;32m      3\u001b[0m     \u001b[38;5;28mself\u001b[39m\u001b[38;5;241m.\u001b[39msol \u001b[38;5;241m=\u001b[39m sol\n\u001b[1;32m----> 4\u001b[0m     \u001b[38;5;28mself\u001b[39m\u001b[38;5;241m.\u001b[39mvpl \u001b[38;5;241m=\u001b[39m \u001b[43mcalcula_vpl_total\u001b[49m\u001b[43m(\u001b[49m\u001b[43mdf_2\u001b[49m\u001b[43m,\u001b[49m\u001b[43m \u001b[49m\u001b[38;5;28;43mself\u001b[39;49m\u001b[38;5;241;43m.\u001b[39;49m\u001b[43msol\u001b[49m\u001b[43m)\u001b[49m\n\u001b[0;32m      5\u001b[0m     \u001b[38;5;28;01mglobal\u001b[39;00m count_func_obj\n\u001b[0;32m      6\u001b[0m     count_func_obj \u001b[38;5;241m+\u001b[39m\u001b[38;5;241m=\u001b[39m \u001b[38;5;241m1\u001b[39m\n",
      "Cell \u001b[1;32mIn[3], line 62\u001b[0m, in \u001b[0;36mcalcula_vpl_total\u001b[1;34m(df, vet_solucao)\u001b[0m\n\u001b[0;32m     60\u001b[0m \u001b[38;5;28;01mdef\u001b[39;00m \u001b[38;5;21mcalcula_vpl_total\u001b[39m(df, vet_solucao):\n\u001b[0;32m     61\u001b[0m \u001b[38;5;250m    \u001b[39m\u001b[38;5;124;03m'''Calcula o VPL total penalizado'''\u001b[39;00m\n\u001b[1;32m---> 62\u001b[0m     result \u001b[38;5;241m=\u001b[39m \u001b[43mfiltra_por_solucao\u001b[49m\u001b[43m(\u001b[49m\u001b[43mdf\u001b[49m\u001b[43m,\u001b[49m\u001b[43m \u001b[49m\u001b[43mvet_solucao\u001b[49m\u001b[43m)\u001b[49m\n\u001b[0;32m     63\u001b[0m     volume_ano \u001b[38;5;241m=\u001b[39m calcula_volume(result)\n\u001b[0;32m     64\u001b[0m     \u001b[38;5;28;01mreturn\u001b[39;00m calcula_vpl_aux(result, volume_ano)\n",
      "Cell \u001b[1;32mIn[3], line 4\u001b[0m, in \u001b[0;36mfiltra_por_solucao\u001b[1;34m(df, vet_solucao)\u001b[0m\n\u001b[0;32m      2\u001b[0m \u001b[38;5;250m\u001b[39m\u001b[38;5;124;03m'''Recebe um vetor solução e retorna o df filtrado para essa solução'''\u001b[39;00m\n\u001b[0;32m      3\u001b[0m stand_prescription_map \u001b[38;5;241m=\u001b[39m {i \u001b[38;5;241m+\u001b[39m \u001b[38;5;241m1\u001b[39m: vet_solucao[i] \u001b[38;5;28;01mfor\u001b[39;00m i \u001b[38;5;129;01min\u001b[39;00m \u001b[38;5;28mrange\u001b[39m(\u001b[38;5;28mlen\u001b[39m(vet_solucao))}\n\u001b[1;32m----> 4\u001b[0m filtered_df \u001b[38;5;241m=\u001b[39m df[\u001b[43mdf\u001b[49m\u001b[38;5;241;43m.\u001b[39;49m\u001b[43mapply\u001b[49m\u001b[43m(\u001b[49m\u001b[38;5;28;43;01mlambda\u001b[39;49;00m\u001b[43m \u001b[49m\u001b[43mrow\u001b[49m\u001b[43m:\u001b[49m\u001b[43m \u001b[49m\u001b[43mrow\u001b[49m\u001b[43m[\u001b[49m\u001b[38;5;124;43m'\u001b[39;49m\u001b[38;5;124;43mprescrição\u001b[39;49m\u001b[38;5;124;43m'\u001b[39;49m\u001b[43m]\u001b[49m\u001b[43m \u001b[49m\u001b[38;5;241;43m==\u001b[39;49m\u001b[43m \u001b[49m\u001b[43mstand_prescription_map\u001b[49m\u001b[38;5;241;43m.\u001b[39;49m\u001b[43mget\u001b[49m\u001b[43m(\u001b[49m\u001b[43mrow\u001b[49m\u001b[43m[\u001b[49m\u001b[38;5;124;43m'\u001b[39;49m\u001b[38;5;124;43mtalhao\u001b[39;49m\u001b[38;5;124;43m'\u001b[39;49m\u001b[43m]\u001b[49m\u001b[43m)\u001b[49m\u001b[43m,\u001b[49m\u001b[43m \u001b[49m\u001b[43maxis\u001b[49m\u001b[38;5;241;43m=\u001b[39;49m\u001b[38;5;241;43m1\u001b[39;49m\u001b[43m)\u001b[49m]\n\u001b[0;32m      5\u001b[0m \u001b[38;5;28;01mreturn\u001b[39;00m filtered_df\n",
      "File \u001b[1;32mc:\\Users\\ramos\\AppData\\Local\\Programs\\Python\\Python313\\Lib\\site-packages\\pandas\\core\\frame.py:10374\u001b[0m, in \u001b[0;36mDataFrame.apply\u001b[1;34m(self, func, axis, raw, result_type, args, by_row, engine, engine_kwargs, **kwargs)\u001b[0m\n\u001b[0;32m  10360\u001b[0m \u001b[38;5;28;01mfrom\u001b[39;00m \u001b[38;5;21;01mpandas\u001b[39;00m\u001b[38;5;21;01m.\u001b[39;00m\u001b[38;5;21;01mcore\u001b[39;00m\u001b[38;5;21;01m.\u001b[39;00m\u001b[38;5;21;01mapply\u001b[39;00m \u001b[38;5;28;01mimport\u001b[39;00m frame_apply\n\u001b[0;32m  10362\u001b[0m op \u001b[38;5;241m=\u001b[39m frame_apply(\n\u001b[0;32m  10363\u001b[0m     \u001b[38;5;28mself\u001b[39m,\n\u001b[0;32m  10364\u001b[0m     func\u001b[38;5;241m=\u001b[39mfunc,\n\u001b[1;32m   (...)\u001b[0m\n\u001b[0;32m  10372\u001b[0m     kwargs\u001b[38;5;241m=\u001b[39mkwargs,\n\u001b[0;32m  10373\u001b[0m )\n\u001b[1;32m> 10374\u001b[0m \u001b[38;5;28;01mreturn\u001b[39;00m \u001b[43mop\u001b[49m\u001b[38;5;241;43m.\u001b[39;49m\u001b[43mapply\u001b[49m\u001b[43m(\u001b[49m\u001b[43m)\u001b[49m\u001b[38;5;241m.\u001b[39m__finalize__(\u001b[38;5;28mself\u001b[39m, method\u001b[38;5;241m=\u001b[39m\u001b[38;5;124m\"\u001b[39m\u001b[38;5;124mapply\u001b[39m\u001b[38;5;124m\"\u001b[39m)\n",
      "File \u001b[1;32mc:\\Users\\ramos\\AppData\\Local\\Programs\\Python\\Python313\\Lib\\site-packages\\pandas\\core\\apply.py:916\u001b[0m, in \u001b[0;36mFrameApply.apply\u001b[1;34m(self)\u001b[0m\n\u001b[0;32m    913\u001b[0m \u001b[38;5;28;01melif\u001b[39;00m \u001b[38;5;28mself\u001b[39m\u001b[38;5;241m.\u001b[39mraw:\n\u001b[0;32m    914\u001b[0m     \u001b[38;5;28;01mreturn\u001b[39;00m \u001b[38;5;28mself\u001b[39m\u001b[38;5;241m.\u001b[39mapply_raw(engine\u001b[38;5;241m=\u001b[39m\u001b[38;5;28mself\u001b[39m\u001b[38;5;241m.\u001b[39mengine, engine_kwargs\u001b[38;5;241m=\u001b[39m\u001b[38;5;28mself\u001b[39m\u001b[38;5;241m.\u001b[39mengine_kwargs)\n\u001b[1;32m--> 916\u001b[0m \u001b[38;5;28;01mreturn\u001b[39;00m \u001b[38;5;28;43mself\u001b[39;49m\u001b[38;5;241;43m.\u001b[39;49m\u001b[43mapply_standard\u001b[49m\u001b[43m(\u001b[49m\u001b[43m)\u001b[49m\n",
      "File \u001b[1;32mc:\\Users\\ramos\\AppData\\Local\\Programs\\Python\\Python313\\Lib\\site-packages\\pandas\\core\\apply.py:1068\u001b[0m, in \u001b[0;36mFrameApply.apply_standard\u001b[1;34m(self)\u001b[0m\n\u001b[0;32m   1065\u001b[0m     results, res_index \u001b[38;5;241m=\u001b[39m \u001b[38;5;28mself\u001b[39m\u001b[38;5;241m.\u001b[39mapply_series_numba()\n\u001b[0;32m   1067\u001b[0m \u001b[38;5;66;03m# wrap results\u001b[39;00m\n\u001b[1;32m-> 1068\u001b[0m \u001b[38;5;28;01mreturn\u001b[39;00m \u001b[38;5;28;43mself\u001b[39;49m\u001b[38;5;241;43m.\u001b[39;49m\u001b[43mwrap_results\u001b[49m\u001b[43m(\u001b[49m\u001b[43mresults\u001b[49m\u001b[43m,\u001b[49m\u001b[43m \u001b[49m\u001b[43mres_index\u001b[49m\u001b[43m)\u001b[49m\n",
      "File \u001b[1;32mc:\\Users\\ramos\\AppData\\Local\\Programs\\Python\\Python313\\Lib\\site-packages\\pandas\\core\\apply.py:1118\u001b[0m, in \u001b[0;36mFrameApply.wrap_results\u001b[1;34m(self, results, res_index)\u001b[0m\n\u001b[0;32m   1116\u001b[0m     result \u001b[38;5;241m=\u001b[39m constructor_sliced(results, dtype\u001b[38;5;241m=\u001b[39mnp\u001b[38;5;241m.\u001b[39mfloat64)\n\u001b[0;32m   1117\u001b[0m \u001b[38;5;28;01melse\u001b[39;00m:\n\u001b[1;32m-> 1118\u001b[0m     result \u001b[38;5;241m=\u001b[39m \u001b[43mconstructor_sliced\u001b[49m\u001b[43m(\u001b[49m\u001b[43mresults\u001b[49m\u001b[43m)\u001b[49m\n\u001b[0;32m   1119\u001b[0m result\u001b[38;5;241m.\u001b[39mindex \u001b[38;5;241m=\u001b[39m res_index\n\u001b[0;32m   1121\u001b[0m \u001b[38;5;28;01mreturn\u001b[39;00m result\n",
      "File \u001b[1;32mc:\\Users\\ramos\\AppData\\Local\\Programs\\Python\\Python313\\Lib\\site-packages\\pandas\\core\\series.py:537\u001b[0m, in \u001b[0;36mSeries.__init__\u001b[1;34m(self, data, index, dtype, name, copy, fastpath)\u001b[0m\n\u001b[0;32m    535\u001b[0m         data \u001b[38;5;241m=\u001b[39m data\u001b[38;5;241m.\u001b[39m_mgr\n\u001b[0;32m    536\u001b[0m \u001b[38;5;28;01melif\u001b[39;00m \u001b[38;5;28misinstance\u001b[39m(data, Mapping):\n\u001b[1;32m--> 537\u001b[0m     data, index \u001b[38;5;241m=\u001b[39m \u001b[38;5;28;43mself\u001b[39;49m\u001b[38;5;241;43m.\u001b[39;49m\u001b[43m_init_dict\u001b[49m\u001b[43m(\u001b[49m\u001b[43mdata\u001b[49m\u001b[43m,\u001b[49m\u001b[43m \u001b[49m\u001b[43mindex\u001b[49m\u001b[43m,\u001b[49m\u001b[43m \u001b[49m\u001b[43mdtype\u001b[49m\u001b[43m)\u001b[49m\n\u001b[0;32m    538\u001b[0m     dtype \u001b[38;5;241m=\u001b[39m \u001b[38;5;28;01mNone\u001b[39;00m\n\u001b[0;32m    539\u001b[0m     copy \u001b[38;5;241m=\u001b[39m \u001b[38;5;28;01mFalse\u001b[39;00m\n",
      "File \u001b[1;32mc:\\Users\\ramos\\AppData\\Local\\Programs\\Python\\Python313\\Lib\\site-packages\\pandas\\core\\series.py:638\u001b[0m, in \u001b[0;36mSeries._init_dict\u001b[1;34m(self, data, index, dtype)\u001b[0m\n\u001b[0;32m    632\u001b[0m \u001b[38;5;28;01mif\u001b[39;00m data:\n\u001b[0;32m    633\u001b[0m     \u001b[38;5;66;03m# GH:34717, issue was using zip to extract key and values from data.\u001b[39;00m\n\u001b[0;32m    634\u001b[0m     \u001b[38;5;66;03m# using generators in effects the performance.\u001b[39;00m\n\u001b[0;32m    635\u001b[0m     \u001b[38;5;66;03m# Below is the new way of extracting the keys and values\u001b[39;00m\n\u001b[0;32m    637\u001b[0m     keys \u001b[38;5;241m=\u001b[39m \u001b[38;5;28mtuple\u001b[39m(data\u001b[38;5;241m.\u001b[39mkeys())\n\u001b[1;32m--> 638\u001b[0m     values \u001b[38;5;241m=\u001b[39m \u001b[38;5;28mlist\u001b[39m(\u001b[43mdata\u001b[49m\u001b[38;5;241;43m.\u001b[39;49m\u001b[43mvalues\u001b[49m\u001b[43m(\u001b[49m\u001b[43m)\u001b[49m)  \u001b[38;5;66;03m# Generating list of values- faster way\u001b[39;00m\n\u001b[0;32m    639\u001b[0m \u001b[38;5;28;01melif\u001b[39;00m index \u001b[38;5;129;01mis\u001b[39;00m \u001b[38;5;129;01mnot\u001b[39;00m \u001b[38;5;28;01mNone\u001b[39;00m:\n\u001b[0;32m    640\u001b[0m     \u001b[38;5;66;03m# fastpath for Series(data=None). Just use broadcasting a scalar\u001b[39;00m\n\u001b[0;32m    641\u001b[0m     \u001b[38;5;66;03m# instead of reindexing.\u001b[39;00m\n\u001b[0;32m    642\u001b[0m     \u001b[38;5;28;01mif\u001b[39;00m \u001b[38;5;28mlen\u001b[39m(index) \u001b[38;5;129;01mor\u001b[39;00m dtype \u001b[38;5;129;01mis\u001b[39;00m \u001b[38;5;129;01mnot\u001b[39;00m \u001b[38;5;28;01mNone\u001b[39;00m:\n",
      "\u001b[1;31mKeyboardInterrupt\u001b[0m: "
     ]
    }
   ],
   "source": [
    "set_seed(45)\n",
    "a = []\n",
    "for _ in range(1): # num de experimentos\n",
    "    melhor_global = None\n",
    "    count_func_obj = 0\n",
    "    estatisticas = {'avg':[], 'std':[], 'max':[], 'min':[]} # estatísticas da população\n",
    "    populacao = gera_populacao_inicial(40, perc_aleatoria=0.02) # pais\n",
    "    \n",
    "    while count_func_obj < 25000: # num de avaliações de função objetivo\n",
    "    # for _ in range(500): # num de gerações\n",
    "        calcula_estatisticas(populacao, estatisticas)\n",
    "        pares = selecao(populacao, tam_torneio=4)\n",
    "        filhos = recombinacao(pares, prob_mutacao=0.01)\n",
    "        populacao = substituicao(populacao, filhos, n_elite=10, tam_torneio=2)\n",
    "        a.append(melhor_global.vpl)"
   ]
  },
  {
   "cell_type": "markdown",
   "metadata": {},
   "source": [
    "22113761\n",
    "\n",
    "27537351"
   ]
  },
  {
   "cell_type": "code",
   "execution_count": 46,
   "metadata": {},
   "outputs": [
    {
     "name": "stdout",
     "output_type": "stream",
     "text": [
      "27537351\n"
     ]
    },
    {
     "data": {
      "text/plain": [
       "<matplotlib.legend.Legend at 0x1dd7befd6d0>"
      ]
     },
     "execution_count": 46,
     "metadata": {},
     "output_type": "execute_result"
    },
    {
     "data": {
      "image/png": "[encoded data removed]",
      "text/plain": [
       "<Figure size 640x480 with 1 Axes>"
      ]
     },
     "metadata": {},
     "output_type": "display_data"
    }
   ],
   "source": [
    "print(melhor_global.vpl)\n",
    "\n",
    "# plt.plot(estatisticas['avg'], label='Média')\n",
    "plt.plot(estatisticas['max'], label='Máximo')\n",
    "# plt.plot(a, label='Melhor VPL')\n",
    "# plt.plot(estatisticas['min'], label='Mínimo')\n",
    "\n",
    "plt.title(\"Evolução do VPL por geração\")\n",
    "plt.xlabel(\"Geração\")\n",
    "plt.ylabel(\"VPL\")\n",
    "plt.legend()"
   ]
  },
  {
   "cell_type": "code",
   "execution_count": null,
   "metadata": {},
   "outputs": [],
   "source": []
  }
 ],
 "metadata": {
  "kernelspec": {
   "display_name": "Python 3",
   "language": "python",
   "name": "python3"
  },
  "language_info": {
   "codemirror_mode": {
    "name": "ipython",
    "version": 3
   },
   "file_extension": ".py",
   "mimetype": "text/x-python",
   "name": "python",
   "nbconvert_exporter": "python",
   "pygments_lexer": "ipython3",
   "version": "3.13.0"
  }
 },
 "nbformat": 4,
 "nbformat_minor": 2
}
