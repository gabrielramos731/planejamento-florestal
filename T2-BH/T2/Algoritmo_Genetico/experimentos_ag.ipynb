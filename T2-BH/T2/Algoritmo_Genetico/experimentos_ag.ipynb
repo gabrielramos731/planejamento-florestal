{
 "cells": [
  {
   "cell_type": "code",
   "execution_count": 1,
   "metadata": {},
   "outputs": [],
   "source": [
    "import pandas as pd\n",
    "import numpy as np\n",
    "import matplotlib.pyplot as plt\n",
    "import seaborn as sns\n",
    "import json\n",
    "from datetime import datetime\n",
    "import random"
   ]
  },
  {
   "cell_type": "markdown",
   "metadata": {},
   "source": [
    "# Base de dados"
   ]
  },
  {
   "cell_type": "code",
   "execution_count": 2,
   "metadata": {},
   "outputs": [],
   "source": [
    "df = pd.read_excel('../Base120.xlsx')"
   ]
  },
  {
   "cell_type": "code",
   "execution_count": 3,
   "metadata": {},
   "outputs": [],
   "source": [
    "def filtra_por_solucao(df, vet_solucao):\n",
    "    '''Recebe um vetor solução e retorna o df filtrado para essa solução'''\n",
    "    stand_prescription_map = {i + 1: vet_solucao[i] for i in range(len(vet_solucao))}\n",
    "    filtered_df = df[df.apply(lambda row: row['prescrição'] == stand_prescription_map.get(row['talhao']), axis=1)]\n",
    "    return filtered_df\n",
    "\n",
    "def calcula_volume(result):\n",
    "\t\"\"\"\n",
    "\tCalculate the volume by summing specific columns of a DataFrame.\n",
    "\tThis function takes a DataFrame `result` and returns the sum of the values\n",
    "\tin columns 3 to 18 (inclusive).\n",
    "\tParameters:\n",
    "\tresult (pandas.DataFrame): The input DataFrame containing the data.\n",
    "\tReturns:\n",
    "\tpandas.Series: A Series containing the sum of the specified columns.\n",
    "\t\"\"\"\n",
    "\t\n",
    "    \n",
    "\treturn result.iloc[:, 3:19].sum()\n",
    "\n",
    "def calcula_penalidade(volume_anual):\n",
    "    '''retorna penalidade por volume excedente/faltante (R$500)'''\n",
    "    upper = []\n",
    "    lower = []\n",
    "    for v_ano in volume_anual:\n",
    "        if v_ano < 140000:\n",
    "            lower.append(np.abs(v_ano - 140000))\n",
    "        elif v_ano > 160000:\n",
    "            upper.append(np.abs(v_ano - 160000))\n",
    "    return np.sum(upper + lower)*500\n",
    "\n",
    "def calcula_vpl_aux(result, volume_ano):\n",
    "    '''Calcula o VPL penalizado (função auxiliar)'''\n",
    "    return np.sum(result['VPL']) - calcula_penalidade(volume_ano)\n",
    "\n",
    "def plota_volume(df, vet_sol):\n",
    "    '''Plota o gráfico do volume nos anos'''\n",
    "    volume_ano = filtra_por_solucao(df, vet_sol).iloc[:, 3:19].sum()\n",
    "    (volume_ano/1000).plot(kind='bar')\n",
    "    plt.hlines(140, xmin=-1, xmax=16, color='red', alpha=.6)\n",
    "    plt.hlines(160, xmin=-1, xmax=16, color='red', alpha=.6)\n",
    "    plt.title(\"Volume de madeira por ano\")\n",
    "    plt.xlabel(\"Ano de Produção\")\n",
    "    plt.ylabel(\"Volume (1000 m$^3$)\")\n",
    "\n",
    "def calcula_volume_aux(df, vet_sol):\n",
    "\t\"\"\"\n",
    "\tCalculate the auxiliary volume based on the given solution vector.\n",
    "\tThis function filters the DataFrame `df` using the solution vector `vet_sol`\n",
    "\tand then sums the values in columns 3 to 18 (inclusive) of the filtered DataFrame.\n",
    "\tParameters:\n",
    "\tdf (pandas.DataFrame): The input DataFrame containing the data.\n",
    "\tvet_sol (list or array-like): The solution vector used to filter the DataFrame.\n",
    "\tReturns:\n",
    "\tpandas.Series: A Series containing the sum of the values in columns 3 to 18 of the filtered DataFrame.\n",
    "\t\"\"\"\n",
    "    \n",
    "\treturn filtra_por_solucao(df, vet_sol).iloc[:, 3:19].sum()\n",
    "\n",
    "def calcula_vpl_total(df, vet_solucao):\n",
    "    '''Calcula o VPL total penalizado'''\n",
    "    result = filtra_por_solucao(df, vet_solucao)\n",
    "    volume_ano = calcula_volume(result)\n",
    "    return calcula_vpl_aux(result, volume_ano)\n",
    "\n",
    "def encontra_pior_ano(df, sol):\n",
    "    volume_ano = calcula_volume_aux(df, sol)\n",
    "    return np.argmax(np.abs(volume_ano-160000)) + 1\n",
    "\n",
    "def numpy_to_python(obj):\n",
    "    '''Converte np.int e np.float para int e float dos dados do dicionário'''\n",
    "    if isinstance(obj, (np.integer, np.floating)):\n",
    "        return obj.item()\n",
    "    \n",
    "def python_to_numpy(dicionario):\n",
    "    '''Converte int e float para np.int e np.float dos dados do dicionário'''\n",
    "    for chave, subdict in dicionario.items():\n",
    "        for subchave, valor in subdict.items():\n",
    "            if isinstance(valor, int):\n",
    "                subdict[subchave] = np.int64(valor)\n",
    "            elif isinstance(valor, float):\n",
    "                subdict[subchave] = np.float64(valor)\n",
    "                \n",
    "    dicionario = {np.int64(key): valor for key, valor in dicionario.items()}\n",
    "    return dicionario"
   ]
  },
  {
   "cell_type": "markdown",
   "metadata": {},
   "source": [
    "---\n",
    "\n",
    "## Alteração na base de dados"
   ]
  },
  {
   "cell_type": "code",
   "execution_count": 4,
   "metadata": {},
   "outputs": [],
   "source": [
    "df_2 = df.drop_duplicates(subset=['talhao'] + df.columns[3:].tolist(), keep='first')\n",
    "df_2.to_csv('../base_reduzida.csv', index=False)"
   ]
  },
  {
   "cell_type": "markdown",
   "metadata": {},
   "source": [
    "---"
   ]
  },
  {
   "cell_type": "markdown",
   "metadata": {},
   "source": [
    "# Algoritmo Genético"
   ]
  },
  {
   "cell_type": "markdown",
   "metadata": {},
   "source": [
    "## Soluções importadas\n"
   ]
  },
  {
   "cell_type": "code",
   "execution_count": 5,
   "metadata": {},
   "outputs": [],
   "source": [
    "with open(\"../solucoes_alpha.json\", \"r\") as arquivo: # soluções geradas por heurística construtiva\n",
    "    solucoes_alpha = json.load(arquivo)\n",
    "solucoes_alpha = [np.array(sol) for sol in solucoes_alpha]"
   ]
  },
  {
   "cell_type": "code",
   "execution_count": 6,
   "metadata": {},
   "outputs": [],
   "source": [
    "class solucao:\n",
    "    def __init__(self, sol):\n",
    "        self.sol = sol\n",
    "        self.vpl = calcula_vpl_total(df_2, self.sol)\n",
    "        global count_func_obj\n",
    "        count_func_obj += 1\n",
    "    \n",
    "    def recalcula_vpl(self) -> None:\n",
    "        self.vpl = calcula_vpl_total(df_2, self.sol)\n",
    "        global count_func_obj\n",
    "        count_func_obj += 1"
   ]
  },
  {
   "cell_type": "code",
   "execution_count": 121,
   "metadata": {},
   "outputs": [],
   "source": [
    "# ok\n",
    "def set_seed(seed_value=42) -> None:\n",
    "    np.random.seed(seed_value)\n",
    "    random.seed(seed_value)\n",
    "\n",
    "# ok\n",
    "def gera_populacao_inicial(n_pop, n_talhoes=120, perc_aleatoria=0.8) -> list[solucao]:\n",
    "    \n",
    "    global melhor_global\n",
    "    populacao = [solucao(sol) for sol in np.random.randint(1, 121, size=(round(n_pop*perc_aleatoria), n_talhoes))]  # pop aleatória\n",
    "    melhor_sol = solucoes_alpha[2]\n",
    "    \n",
    "    for _ in range(n_pop-round(n_pop*perc_aleatoria)): # quantidade soluções semi boas\n",
    "        sol = np.copy(melhor_sol)\n",
    "        random.shuffle(sol) # embaralha solução semi boa\n",
    "        populacao.append(solucao(sol))\n",
    "        \n",
    "    melhor_global = max(populacao, key=lambda sol: sol.vpl)\n",
    "    return populacao\n",
    "\n",
    "# ok* (prob cruzamento)\n",
    "def selecao(populacao, metodo='torneio') -> np.ndarray[solucao]:\n",
    "    \n",
    "    pares = np.array([[],[]])\n",
    "    tam_torneio = 0.15\n",
    "\n",
    "    # olhar probabilidade de cruzamento!!!\n",
    "    for _ in range(round(len(populacao) / 2)): # quantidade de pares\n",
    "        populacao_aux = populacao.copy()\n",
    "        pop_torneio1 = random.sample(populacao_aux, round(len(populacao_aux) * tam_torneio))\n",
    "        p1 = max(pop_torneio1, key=lambda sol_torneio: sol_torneio.vpl)\n",
    "        populacao_aux.remove(p1)\n",
    "        \n",
    "        pop_torneio2 = random.sample(populacao_aux, round(len(populacao_aux) * tam_torneio))\n",
    "        p2 = max(pop_torneio2, key=lambda sol_torneio: sol_torneio.vpl)\n",
    "        pares = np.append(pares, [[p1], [p2]])\n",
    "        \n",
    "    return pares.reshape(round(len(populacao)/2), 2)\n",
    "\n",
    "# ok* (só 1 crossover)\n",
    "def recombinacao(pares, prob_mutacao) -> list[solucao]:\n",
    "    \n",
    "    global melhor_global\n",
    "    filhos = []\n",
    "    \n",
    "    for pai1, pai2 in pares:\n",
    "        pontos_crossover = [round(len(pares[0][0].sol) * random.random()) for _ in range(2)] # deixar apenas um crossover\n",
    "        pontos_crossover.sort()\n",
    "        crossover1 = pontos_crossover[0]\n",
    "        # crossover2 = pontos_crossover[1]\n",
    "        \n",
    "        filho1 = solucao(np.concatenate((pai1.sol[:crossover1], \n",
    "                                         pai2.sol[crossover1:])))\n",
    "        \n",
    "        filho2 = solucao(np.concatenate((pai2.sol[:crossover1], \n",
    "                                         pai1.sol[crossover1:])))\n",
    "        \n",
    "        # filho1 = solucao(np.concatenate((pai1.sol[:crossover1], \n",
    "        #                                  pai2.sol[crossover1:crossover2], \n",
    "        #                                  pai1.sol[crossover2:])))\n",
    "        \n",
    "        # filho2 = solucao(np.concatenate((pai2.sol[:crossover1], \n",
    "        #                                  pai1.sol[crossover1:crossover2], \n",
    "        #                                  pai2.sol[crossover2:])))\n",
    "        \n",
    "        melhor_global = max(melhor_global, filho1, filho2, key=lambda aux: aux.vpl) # atualiza melhor_solucao antes da mutação\n",
    "        if random.random() < prob_mutacao:\n",
    "            mutacao(filho1)\n",
    "            melhor_global = max(melhor_global, filho1, key=lambda aux: aux.vpl) # atualiza melhor_solucao após mutação\n",
    "        if random.random() < prob_mutacao:\n",
    "            mutacao(filho2)\n",
    "            melhor_global = max(melhor_global, filho2, key=lambda aux: aux.vpl) # atualiza melhor_solucao após mutação\n",
    "        \n",
    "        filhos.append(filho1)\n",
    "        filhos.append(filho2)\n",
    "    return filhos\n",
    "\n",
    "# ok\n",
    "def mutacao(filho) -> None:\n",
    "    talhoes_sorteados = [random.randrange(1, 121) for _ in range(2)]\n",
    "    filho.sol[talhoes_sorteados[0]-1], filho.sol[talhoes_sorteados[1]-1] = filho.sol[talhoes_sorteados[1]-1], filho.sol[talhoes_sorteados[0]-1] # swap\n",
    "    filho.recalcula_vpl()\n",
    "\n",
    "# ok\n",
    "def substituicao(pais, filhos, prop_elite=0.2) -> list[solucao]:\n",
    "    ''' Mantem prop_elite% dos melhores pais mais o restante dos filhos aleatórios '''\n",
    "    \n",
    "    n_elite = int(prop_elite * len(pais))\n",
    "    pais_elite = pais.copy()\n",
    "    pais_elite.sort(key=lambda sol_torneio: sol_torneio.vpl, reverse=True)\n",
    "    if melhor_global in filhos:\n",
    "        filhos.remove(melhor_global)\n",
    "        return pais_elite[:n_elite] + random.sample(filhos, len(pais) - n_elite - 1) + [melhor_global]\n",
    "    return pais_elite[:n_elite] + random.sample(filhos, len(pais) - n_elite)\n",
    "\n",
    "def calcula_estatisticas(populacao, estatisticas) -> dict:\n",
    "    lista_vpl = [sol.vpl for sol in populacao]\n",
    "    estatisticas['avg'].append(np.mean(lista_vpl))\n",
    "    estatisticas['std'].append(np.std(lista_vpl))\n",
    "    estatisticas['max'].append(np.max(lista_vpl))\n",
    "    estatisticas['min'].append(np.min(lista_vpl))\n"
   ]
  },
  {
   "cell_type": "code",
   "execution_count": 34,
   "metadata": {},
   "outputs": [
    {
     "name": "stdout",
     "output_type": "stream",
     "text": [
      "[ 55 102 102  91  44  91  10  10  30 115  75  49  89 108 109 107 105  70\n",
      "  87  56   7  81   1  13  36  64  22  18  39  91  99  50   8  86  45 105\n",
      "  57  18  65   1   3  34  60  93  33  37  93   5  69  17  36  29  73   6\n",
      " 119 106  20  65  76   2 117  23  89 116 115  68  49  67  62  46  21 119\n",
      "  55  87 104  47  43   1  48  24 105  93  48  20  23  26 117  76  31  13\n",
      " 110  46   3  28  15  41  46  30  31  43  65  49  69  17 112  49  66 115\n",
      "  31  74  90  12  69 103  56  81  94  16 116  20]\n",
      "-777265977 \n",
      "\n"
     ]
    }
   ],
   "source": [
    "set_seed(48)\n",
    "count_func_obj = 0\n",
    "melhor_global = None\n",
    "\n",
    "p = gera_populacao_inicial(5)\n",
    "# for i in p:\n",
    "#     print(i.vpl)\n",
    "#     print(i.sol, '\\n')\n",
    "# print('-----\\n')\n",
    "\n",
    "sel = selecao(p)\n",
    "\n",
    "rec = recombinacao(sel, 0.01)\n",
    "# for i in rec:\n",
    "#     print(i.vpl)\n",
    "#     print(i.sol, '\\n')\n",
    "# print('-----\\n')\n",
    "\n",
    "p = substituicao(p, rec)    \n",
    "# for i in p:\n",
    "    # print(i.vpl)\n",
    "    # print(i.sol, '\\n')\n",
    "print(melhor_global.sol)\n",
    "print(melhor_global.vpl, '\\n')"
   ]
  },
  {
   "cell_type": "code",
   "execution_count": 144,
   "metadata": {},
   "outputs": [],
   "source": [
    "set_seed(41)\n",
    "a = []\n",
    "for _ in range(1): # num de experimentos\n",
    "    melhor_global = None\n",
    "    count_func_obj = 0\n",
    "    estatisticas = {'avg':[], 'std':[], 'max':[], 'min':[]} # estatísticas da população\n",
    "    populacao = gera_populacao_inicial(40, perc_aleatoria=0.02) # pais\n",
    "    \n",
    "    while count_func_obj < 100000: # num de avaliações de função objetivo\n",
    "    # for _ in range(500): # num de gerações\n",
    "        calcula_estatisticas(populacao, estatisticas)\n",
    "        pares = selecao(populacao)\n",
    "        filhos = recombinacao(pares, prob_mutacao=0.01)\n",
    "        populacao = substituicao(populacao, filhos, prop_elite=0.25)\n",
    "        a.append(melhor_global.vpl)"
   ]
  },
  {
   "cell_type": "code",
   "execution_count": 146,
   "metadata": {},
   "outputs": [
    {
     "name": "stdout",
     "output_type": "stream",
     "text": [
      "29666212.0\n"
     ]
    },
    {
     "data": {
      "text/plain": [
       "<matplotlib.legend.Legend at 0x25da38207d0>"
      ]
     },
     "execution_count": 146,
     "metadata": {},
     "output_type": "execute_result"
    },
    {
     "data": {
      "image/png": "[encoded data removed]",
      "text/plain": [
       "<Figure size 640x480 with 1 Axes>"
      ]
     },
     "metadata": {},
     "output_type": "display_data"
    }
   ],
   "source": [
    "print(melhor_global.vpl)\n",
    "\n",
    "# plt.plot(estatisticas['avg'], label='Média')\n",
    "plt.plot(estatisticas['max'], label='Máximo')\n",
    "# plt.plot(a, label='Melhor VPL')\n",
    "# plt.plot(estatisticas['min'], label='Mínimo')\n",
    "\n",
    "plt.title(\"Evolução do VPL por geração\")\n",
    "plt.xlabel(\"Geração\")\n",
    "plt.ylabel(\"VPL\")\n",
    "plt.legend()"
   ]
  },
  {
   "cell_type": "code",
   "execution_count": null,
   "metadata": {},
   "outputs": [],
   "source": []
  }
 ],
 "metadata": {
  "kernelspec": {
   "display_name": "Python 3",
   "language": "python",
   "name": "python3"
  },
  "language_info": {
   "codemirror_mode": {
    "name": "ipython",
    "version": 3
   },
   "file_extension": ".py",
   "mimetype": "text/x-python",
   "name": "python",
   "nbconvert_exporter": "python",
   "pygments_lexer": "ipython3",
   "version": "3.13.0"
  }
 },
 "nbformat": 4,
 "nbformat_minor": 2
}
