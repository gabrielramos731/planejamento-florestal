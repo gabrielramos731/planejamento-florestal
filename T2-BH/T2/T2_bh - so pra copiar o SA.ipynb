{
  "cells": [
    {
      "cell_type": "markdown",
      "metadata": {
        "id": "bcHS1a2fQbU5"
      },
      "source": [
        "# Bibliotecas"
      ]
    },
    {
      "cell_type": "code",
      "execution_count": 1,
      "metadata": {
        "id": "SHE8gsMQB6b-"
      },
      "outputs": [],
      "source": [
        "import pandas as pd\n",
        "import numpy as np\n",
        "import matplotlib.pyplot as plt\n",
        "import seaborn as sns\n",
        "import time\n",
        "import warnings\n",
        "import json"
      ]
    },
    {
      "cell_type": "markdown",
      "metadata": {
        "id": "AiHfgWMzQZYv"
      },
      "source": [
        "# Base de dados"
      ]
    },
    {
      "cell_type": "code",
      "execution_count": 2,
      "metadata": {
        "id": "6ARnpc7eCUwG"
      },
      "outputs": [],
      "source": [
        "df = pd.read_excel('Base120.xlsx')"
      ]
    },
    {
      "cell_type": "code",
      "execution_count": 3,
      "metadata": {
        "id": "GrH8POMrdhJV"
      },
      "outputs": [],
      "source": [
        "def filtra_por_solucao(df, vet_solucao):\n",
        "    '''Recebe um vetor solução e retorna o df filtrado para essa solução'''\n",
        "    stand_prescription_map = {i + 1: vet_solucao[i] for i in range(len(vet_solucao))}\n",
        "    filtered_df = df[df.apply(lambda row: row['prescrição'] == stand_prescription_map.get(row['talhao']), axis=1)]\n",
        "    return filtered_df\n",
        "\n",
        "def calcula_volume(result):\n",
        "\t\"\"\"\n",
        "\tCalculate the volume by summing specific columns of a DataFrame.\n",
        "\tThis function takes a DataFrame `result` and returns the sum of the values\n",
        "\tin columns 3 to 18 (inclusive).\n",
        "\tParameters:\n",
        "\tresult (pandas.DataFrame): The input DataFrame containing the data.\n",
        "\tReturns:\n",
        "\tpandas.Series: A Series containing the sum of the specified columns.\n",
        "\t\"\"\"\n",
        "\t\n",
        "    \n",
        "\treturn result.iloc[:, 3:19].sum()\n",
        "\n",
        "def calcula_penalidade(volume_anual):\n",
        "    '''retorna penalidade por volume excedente/faltante (R$500)'''\n",
        "    upper = []\n",
        "    lower = []\n",
        "    for v_ano in volume_anual:\n",
        "        if v_ano < 140000:\n",
        "            lower.append(np.abs(v_ano - 140000))\n",
        "        elif v_ano > 160000:\n",
        "            upper.append(np.abs(v_ano - 160000))\n",
        "    return np.sum(upper + lower)*500\n",
        "\n",
        "def calcula_vpl_aux(result, volume_ano):\n",
        "    '''Calcula o VPL penalizado (função auxiliar)'''\n",
        "    return np.sum(result['VPL']) - calcula_penalidade(volume_ano)\n",
        "\n",
        "def plota_volume(df, vet_sol):\n",
        "    '''Plota o gráfico do volume nos anos'''\n",
        "    volume_ano = filtra_por_solucao(df, vet_sol).iloc[:, 3:19].sum()\n",
        "    (volume_ano/1000).plot(kind='bar')\n",
        "    plt.hlines(140, xmin=-1, xmax=16, color='red', alpha=.6)\n",
        "    plt.hlines(160, xmin=-1, xmax=16, color='red', alpha=.6)\n",
        "    plt.title(\"Volume de madeira por ano\")\n",
        "    plt.xlabel(\"Ano de Produção\")\n",
        "    plt.ylabel(\"Volume (1000 m$^3$)\")\n",
        "\n",
        "def calcula_volume_aux(df, vet_sol):\n",
        "\t\"\"\"\n",
        "\tCalculate the auxiliary volume based on the given solution vector.\n",
        "\tThis function filters the DataFrame `df` using the solution vector `vet_sol`\n",
        "\tand then sums the values in columns 3 to 18 (inclusive) of the filtered DataFrame.\n",
        "\tParameters:\n",
        "\tdf (pandas.DataFrame): The input DataFrame containing the data.\n",
        "\tvet_sol (list or array-like): The solution vector used to filter the DataFrame.\n",
        "\tReturns:\n",
        "\tpandas.Series: A Series containing the sum of the values in columns 3 to 18 of the filtered DataFrame.\n",
        "\t\"\"\"\n",
        "    \n",
        "\treturn filtra_por_solucao(df, vet_sol).iloc[:, 3:19].sum()\n",
        "\n",
        "def calcula_vpl_total(df, vet_solucao):\n",
        "    '''Calcula o VPL total penalizado'''\n",
        "    result = filtra_por_solucao(df, vet_solucao)\n",
        "    volume_ano = calcula_volume(result)\n",
        "    return calcula_vpl_aux(result, volume_ano)\n",
        "\n",
        "def encontra_pior_ano(df, sol):\n",
        "    volume_ano = calcula_volume_aux(df, sol)\n",
        "    # return np.argmax(np.where(volume_ano>160000,\n",
        "    #                           np.abs(volume_ano-160000),\n",
        "    #                           np.abs(volume_ano-140000))) + 1\n",
        "    return np.argmax(np.abs(volume_ano-160000)) + 1"
      ]
    },
    {
      "cell_type": "markdown",
      "metadata": {
        "id": "6C9bhrPljqMU"
      },
      "source": [
        "---\n",
        "\n",
        "## Alteração na base de dados"
      ]
    },
    {
      "cell_type": "code",
      "execution_count": 4,
      "metadata": {
        "id": "ebJhMLXjjolW"
      },
      "outputs": [],
      "source": [
        "df_2 = df.drop_duplicates(subset=['talhao'] + df.columns[3:].tolist(), keep='first')\n",
        "df_2.to_csv('base_reduzida.csv', index=False)"
      ]
    },
    {
      "cell_type": "markdown",
      "metadata": {
        "id": "2ot2HbiFmZoO"
      },
      "source": [
        "# Busca Local\n",
        "\n",
        "Sorteie um dos 120 talhões e gera os vizinhos para todas suas prescrições, alterando a solução atual para o melhor vizinho e repetindo o processo."
      ]
    },
    {
      "cell_type": "markdown",
      "metadata": {
        "id": "AL838mXyV8cm"
      },
      "source": [
        "## Soluções importadas\n"
      ]
    },
    {
      "cell_type": "code",
      "execution_count": 5,
      "metadata": {
        "id": "TfwK8-xwV7iN"
      },
      "outputs": [],
      "source": [
        "with open(\"solucoes_alpha.json\", \"r\") as arquivo: # soluções geradas por heurística construtiva\n",
        "    solucoes_alpha = json.load(arquivo)\n",
        "solucoes_alpha = [np.array(sol) for sol in solucoes_alpha]"
      ]
    },
    {
      "cell_type": "code",
      "execution_count": 6,
      "metadata": {
        "id": "MhkvOuD3mbBz"
      },
      "outputs": [],
      "source": [
        "import random\n",
        "import matplotlib.ticker as ticker\n",
        "\n",
        "def gera_vizinhos(df, vet_solucao):\n",
        "    \"\"\"\n",
        "    Gera vizinhos de um talhão sorteado\n",
        "    \"\"\"\n",
        "    vizinhos = []\n",
        "    talhao_sorteado = random.randint(0, 119)\n",
        "    prescricoes_talhao = df[df['talhao'] == talhao_sorteado+1]['prescrição'].unique() # prescrições únicas de cada talhão\n",
        "    for prescricao in prescricoes_talhao:\n",
        "        vizinho = vet_solucao.copy()\n",
        "        vizinho[talhao_sorteado] = prescricao # altera solução\n",
        "        vizinhos.append(vizinho)\n",
        "    return vizinhos\n",
        "\n",
        "def gera_vizinhos_localizado(df, solucao):\n",
        "    \"\"\"\n",
        "    Gera uma lista de vizinhos localizados para uma solução dada.\n",
        "    Esta função identifica o pior ano em uma solução e, em seguida, encontra\n",
        "    todos os talhões que podem ser colhidos naquele ano com base nas idades\n",
        "    de colheita fornecidas.\n",
        "    Args:\n",
        "        df (pd.DataFrame): DataFrame contendo informações sobre os talhões,\n",
        "                             incluindo a idade de cada talhão.\n",
        "        solucao (list): Lista representando a solução atual.\n",
        "        idade_colheita (dict): Dicionário onde as chaves são anos e os valores\n",
        "                               são listas de idades possíveis para colheita\n",
        "                               naquele ano.\n",
        "    Returns:\n",
        "        None: A função imprime o pior ano e os talhões possíveis para colheita\n",
        "              naquele ano.\n",
        "    \"\"\"\n",
        "    \n",
        "    idade_colheita = {1: ['5', '6'],\n",
        "                  2: ['4', '5', '6'],\n",
        "\t\t\t\t  3: ['3', '4', '5'],\n",
        "\t\t\t\t  4: ['2', '3', '4'],\n",
        "\t\t\t\t  5: ['1', '2', '3'],\n",
        "\t\t\t\t  6: ['1', '2', '5', '6'],\n",
        "\t\t\t\t  7: ['1', '4', '5', '6'],\n",
        "\t\t\t\t  8: ['3', '4', '5', '6'],\n",
        "\t\t\t\t  9: ['2', '3', '4', '5', '6'],\n",
        "\t\t\t\t  10: ['1', '2', '3', '4', '5'],\n",
        "\t\t\t\t  11: ['1', '2', '3', '4', '5', '6'],\n",
        "\t\t\t\t  12: ['1', '2', '3', '4', '5', '6'],\n",
        "\t\t\t\t  13: ['1', '2', '3', '4', '5', '6'],\n",
        "\t\t\t\t  14: ['1', '2', '3', '4', '5', '6'],\n",
        "\t\t\t\t  15: ['1', '2', '3', '4', '5', '6'],\n",
        "\t\t\t\t  16: ['1', '2', '3', '4', '5', '6']}\n",
        "    pior_ano = encontra_pior_ano(df, solucao)\n",
        "    possiveis_idades = idade_colheita[pior_ano]\n",
        "    possiveis_talhoes = df[np.isin(df.loc[:, 'idade'], list(map(int, possiveis_idades)))]['talhao'].unique() # talhoes que podem fazer colheita naquele ano\n",
        "    talhao_sorteado = random.sample(list(possiveis_talhoes), 1)\n",
        "    vizinhos = []\n",
        "    prescricoes_talhao = df[df['talhao'] == talhao_sorteado[0]]['prescrição'].unique() # prescrições únicas de cada talhão\n",
        "    \n",
        "    for prescricao in prescricoes_talhao:\n",
        "        vizinho = solucao.copy()\n",
        "        vizinho[talhao_sorteado[0]-1] = prescricao # altera solução\n",
        "        vizinhos.append(vizinho)\n",
        "    return vizinhos\n",
        "\n",
        "def gera_vizinhos_sistematico(df, sol):\n",
        "    \"\"\"\n",
        "    Gera vizinhos sistemáticos para uma solução dada.\n",
        "    Parâmetros:\n",
        "    df (pandas.DataFrame): DataFrame contendo os dados com colunas 'talhao' e 'prescrição'.\n",
        "    sol (numpy.ndarray): Array representando a solução atual.\n",
        "    Retorna:\n",
        "    numpy.ndarray: Array de vizinhos gerados sistematicamente.\n",
        "    \"\"\"\n",
        "    \n",
        "    # Gera 120 vizinhos com talhões alterados sistematicamente para um prescrição aleatória\n",
        "    vizinhos = np.tile(sol, (120, 1))\n",
        "    for pos, vizinho in enumerate(vizinhos):\n",
        "        prescricoes = df[df['talhao'] == pos + 1]['prescrição'].unique()\n",
        "        vizinho[pos] = random.choice(prescricoes)\n",
        "        \n",
        "    return vizinhos\n",
        "\n",
        "def varre_vizinhos(vizinhos, sol_atual, df, metodo):\n",
        "    \"\"\"\n",
        "    Returns the neighbor with the highest VPL.\n",
        "    \"\"\"\n",
        "    max_vpl = calcula_vpl_total(df, sol_atual)  # Initialize with negative infinity to ensure the first neighbor is considered\n",
        "    melhor_vizinho = sol_atual\n",
        "\n",
        "    for vizinho in vizinhos:\n",
        "        vpl_atual = calcula_vpl_total(df, vizinho)\n",
        "        if metodo=='mm': # melhor melhor\n",
        "            if vpl_atual > max_vpl:\n",
        "                max_vpl = vpl_atual\n",
        "                melhor_vizinho = vizinho\n",
        "        elif metodo=='pm': # primeiro melhor\n",
        "            if vpl_atual > max_vpl:\n",
        "                max_vpl = vpl_atual\n",
        "                melhor_vizinho = vizinho\n",
        "                break\n",
        "\n",
        "    return melhor_vizinho  # Return the neighbor with the highest VPL\n",
        "\n",
        "def busca_local(df, sol_atual, tempo_max, seed=42, metodo='mm', vizinhanca='aleatoria'):\n",
        "    inicio = time.time()\n",
        "    counter_melhor_vizinho, counter_nova_solucao, counter_quant_sol = 0, 0, 0\n",
        "    melhores_vpl = []\n",
        "    random.seed(seed)\n",
        "\n",
        "    while True:\n",
        "        if time.time() - inicio > tempo_max:\n",
        "            print(\"Tempo máximo atingido\")\n",
        "            break\n",
        "        \n",
        "        # gera vizinhanças diferentes\n",
        "        if vizinhanca=='aleatoria':\n",
        "            vizinhos_sol_atual = gera_vizinhos(df, sol_atual)\n",
        "        elif vizinhanca=='localizada':\n",
        "            vizinhos_sol_atual = gera_vizinhos_localizado(df, sol_atual)\n",
        "        elif vizinhanca=='sistematica':\n",
        "            vizinhos_sol_atual = gera_vizinhos_sistematico(df, sol_atual)\n",
        "        \n",
        "        melhor_vizinho = varre_vizinhos(vizinhos_sol_atual, sol_atual, df, metodo=metodo)\n",
        "\n",
        "        if all(melhor_vizinho == sol_atual):\n",
        "            counter_nova_solucao +=1\n",
        "            continue\n",
        "        else:\n",
        "            sol_atual = melhor_vizinho\n",
        "            melhores_vpl.append(calcula_vpl_total(df, sol_atual))\n",
        "            counter_melhor_vizinho += 1\n",
        "            counter_quant_sol += 1\n",
        "\n",
        "    plt.plot(range(counter_quant_sol), melhores_vpl, label=metodo)\n",
        "    plt.xlabel('Número de iterações')\n",
        "    plt.ylabel('VPL')\n",
        "    plt.title('VPL ao longo das iterações')\n",
        "    plt.grid(True)\n",
        "    plt.legend()\n",
        "    plt.gca().yaxis.set_major_formatter(ticker.FuncFormatter(lambda x, pos: '{:,.0f}'.format(x)))\n",
        "\n",
        "    print(counter_melhor_vizinho, ' trocas para melhor vizinho')\n",
        "    print(counter_nova_solucao, ' trocas para nova solução')\n",
        "    return (calcula_vpl_total(df, sol_atual), sol_atual)"
      ]
    },
    {
      "cell_type": "code",
      "execution_count": 7,
      "metadata": {
        "colab": {
          "base_uri": "https://localhost:8080/"
        },
        "id": "AJmb6qrzAYiI",
        "outputId": "2084e050-d6ca-4dec-e39a-284cdecb524a"
      },
      "outputs": [
        {
          "data": {
            "text/plain": [
              "np.int64(-54932408)"
            ]
          },
          "execution_count": 7,
          "metadata": {},
          "output_type": "execute_result"
        }
      ],
      "source": [
        "calcula_vpl_total(df_2, solucoes_alpha[2])"
      ]
    },
    {
      "cell_type": "markdown",
      "metadata": {},
      "source": [
        "---\n",
        "\n",
        "# Gerar vizinhança 1"
      ]
    },
    {
      "cell_type": "code",
      "execution_count": 8,
      "metadata": {
        "colab": {
          "base_uri": "https://localhost:8080/",
          "height": 541
        },
        "id": "PjN0AUhOrE0T",
        "outputId": "fd1d3d38-df2f-47f7-9dd5-7bc1e18e7fcd"
      },
      "outputs": [],
      "source": [
        "#vpl_busca_local, sol_busca_local = busca_local(df_2, solucoes_alpha[2], 14400, seed=11, metodo='mm')\n",
        "#print('Melhor melhor\\nVPL: ', vpl_busca_local)\n",
        "#vpl_busca_local, sol_busca_local = busca_local(df_2, solucoes_alpha[2], 14400, seed=11, metodo='pm')\n",
        "#print('Primeiro melhor\\nVPL: ', vpl_busca_local)"
      ]
    },
    {
      "cell_type": "code",
      "execution_count": 9,
      "metadata": {
        "colab": {
          "base_uri": "https://localhost:8080/",
          "height": 475
        },
        "id": "Z3U1jg3X0qYV",
        "outputId": "8c92b381-525e-41ee-fd55-ec55ccb81949"
      },
      "outputs": [],
      "source": [
        "#plota_volume(df_2, sol_busca_local)"
      ]
    },
    {
      "cell_type": "markdown",
      "metadata": {
        "id": "-hFkvXx5X3mf"
      },
      "source": [
        "---\n",
        "\n",
        "# Gerar vizinhança 2\n",
        "\n",
        "3 casos:\n",
        "\n",
        "1. Dados o ano que mais acima da produção máxima, escolher dentro os talhões que podem fazer colheita nesse ano, escolher uma prescrição do melhor vizinho\n",
        "\n",
        "2. Dados o ano que mais abaixo da produção mínima, escolher dentro os talhões que podem fazer colheita nesse ano, uma prescrição do melhor vizinho\n",
        "\n",
        "3. Dados o ano dentro do limite e mais próximo da produção máxima, escolher dentro os talhões que podem fazer colheita nesse ano, escolher uma prescrição do melhor vizinho"
      ]
    },
    {
      "cell_type": "code",
      "execution_count": 10,
      "metadata": {},
      "outputs": [],
      "source": [
        "# vpl_busca_local, sol_busca_local = busca_local(df_2, solucoes_alpha[2], 5, seed=11, metodo='mm', vizinhanca='localizada')\n",
        "# print('Melhor melhor\\nVPL: ', vpl_busca_local)\n",
        "# vpl_busca_local, sol_busca_local = busca_local(df_2, solucoes_alpha[2], 30, seed=11, metodo='pm', vizinhanca='localizada')\n",
        "# print('Primeiro melhor\\nVPL: ', vpl_busca_local)"
      ]
    },
    {
      "cell_type": "code",
      "execution_count": 11,
      "metadata": {},
      "outputs": [],
      "source": [
        "# plota_volume(df_2, sol_busca_local)"
      ]
    },
    {
      "cell_type": "markdown",
      "metadata": {},
      "source": [
        "---\n",
        "\n",
        "# Gera vizinhanças 3\n",
        "\n",
        "120 vizinhos compostos de uma troca sistematica de todos talhões por uma prescrição aleatória"
      ]
    },
    {
      "cell_type": "code",
      "execution_count": null,
      "metadata": {},
      "outputs": [
        {
          "ename": "KeyboardInterrupt",
          "evalue": "",
          "output_type": "error",
          "traceback": [
            "\u001b[1;31m---------------------------------------------------------------------------\u001b[0m",
            "\u001b[1;31mKeyboardInterrupt\u001b[0m                         Traceback (most recent call last)",
            "Cell \u001b[1;32mIn[12], line 1\u001b[0m\n\u001b[1;32m----> 1\u001b[0m vpl_busca_local, sol_busca_local \u001b[38;5;241m=\u001b[39m \u001b[43mbusca_local\u001b[49m\u001b[43m(\u001b[49m\u001b[43mdf_2\u001b[49m\u001b[43m,\u001b[49m\u001b[43m \u001b[49m\u001b[43msolucoes_alpha\u001b[49m\u001b[43m[\u001b[49m\u001b[38;5;241;43m2\u001b[39;49m\u001b[43m]\u001b[49m\u001b[43m,\u001b[49m\u001b[43m \u001b[49m\u001b[38;5;241;43m10\u001b[39;49m\u001b[43m,\u001b[49m\u001b[43m \u001b[49m\u001b[43mseed\u001b[49m\u001b[38;5;241;43m=\u001b[39;49m\u001b[38;5;241;43m11\u001b[39;49m\u001b[43m,\u001b[49m\u001b[43m \u001b[49m\u001b[43mmetodo\u001b[49m\u001b[38;5;241;43m=\u001b[39;49m\u001b[38;5;124;43m'\u001b[39;49m\u001b[38;5;124;43mmm\u001b[39;49m\u001b[38;5;124;43m'\u001b[39;49m\u001b[43m,\u001b[49m\u001b[43m \u001b[49m\u001b[43mvizinhanca\u001b[49m\u001b[38;5;241;43m=\u001b[39;49m\u001b[38;5;124;43m'\u001b[39;49m\u001b[38;5;124;43msistematica\u001b[39;49m\u001b[38;5;124;43m'\u001b[39;49m\u001b[43m)\u001b[49m\n\u001b[0;32m      2\u001b[0m \u001b[38;5;28mprint\u001b[39m(\u001b[38;5;124m'\u001b[39m\u001b[38;5;124mMelhor melhor\u001b[39m\u001b[38;5;130;01m\\n\u001b[39;00m\u001b[38;5;124mVPL: \u001b[39m\u001b[38;5;124m'\u001b[39m, vpl_busca_local)\n\u001b[0;32m      3\u001b[0m vpl_busca_local, sol_busca_local \u001b[38;5;241m=\u001b[39m busca_local(df_2, solucoes_alpha[\u001b[38;5;241m2\u001b[39m], \u001b[38;5;241m10\u001b[39m, seed\u001b[38;5;241m=\u001b[39m\u001b[38;5;241m11\u001b[39m, metodo\u001b[38;5;241m=\u001b[39m\u001b[38;5;124m'\u001b[39m\u001b[38;5;124mpm\u001b[39m\u001b[38;5;124m'\u001b[39m, vizinhanca\u001b[38;5;241m=\u001b[39m\u001b[38;5;124m'\u001b[39m\u001b[38;5;124msistematica\u001b[39m\u001b[38;5;124m'\u001b[39m)\n",
            "Cell \u001b[1;32mIn[6], line 122\u001b[0m, in \u001b[0;36mbusca_local\u001b[1;34m(df, sol_atual, tempo_max, seed, metodo, vizinhanca)\u001b[0m\n\u001b[0;32m    119\u001b[0m \u001b[38;5;28;01melif\u001b[39;00m vizinhanca\u001b[38;5;241m==\u001b[39m\u001b[38;5;124m'\u001b[39m\u001b[38;5;124msistematica\u001b[39m\u001b[38;5;124m'\u001b[39m:\n\u001b[0;32m    120\u001b[0m     vizinhos_sol_atual \u001b[38;5;241m=\u001b[39m gera_vizinhos_sistematico(df, sol_atual)\n\u001b[1;32m--> 122\u001b[0m melhor_vizinho \u001b[38;5;241m=\u001b[39m \u001b[43mvarre_vizinhos\u001b[49m\u001b[43m(\u001b[49m\u001b[43mvizinhos_sol_atual\u001b[49m\u001b[43m,\u001b[49m\u001b[43m \u001b[49m\u001b[43msol_atual\u001b[49m\u001b[43m,\u001b[49m\u001b[43m \u001b[49m\u001b[43mdf\u001b[49m\u001b[43m,\u001b[49m\u001b[43m \u001b[49m\u001b[43mmetodo\u001b[49m\u001b[38;5;241;43m=\u001b[39;49m\u001b[43mmetodo\u001b[49m\u001b[43m)\u001b[49m\n\u001b[0;32m    124\u001b[0m \u001b[38;5;28;01mif\u001b[39;00m \u001b[38;5;28mall\u001b[39m(melhor_vizinho \u001b[38;5;241m==\u001b[39m sol_atual):\n\u001b[0;32m    125\u001b[0m     counter_nova_solucao \u001b[38;5;241m+\u001b[39m\u001b[38;5;241m=\u001b[39m\u001b[38;5;241m1\u001b[39m\n",
            "Cell \u001b[1;32mIn[6], line 90\u001b[0m, in \u001b[0;36mvarre_vizinhos\u001b[1;34m(vizinhos, sol_atual, df, metodo)\u001b[0m\n\u001b[0;32m     87\u001b[0m melhor_vizinho \u001b[38;5;241m=\u001b[39m sol_atual\n\u001b[0;32m     89\u001b[0m \u001b[38;5;28;01mfor\u001b[39;00m vizinho \u001b[38;5;129;01min\u001b[39;00m vizinhos:\n\u001b[1;32m---> 90\u001b[0m     vpl_atual \u001b[38;5;241m=\u001b[39m \u001b[43mcalcula_vpl_total\u001b[49m\u001b[43m(\u001b[49m\u001b[43mdf\u001b[49m\u001b[43m,\u001b[49m\u001b[43m \u001b[49m\u001b[43mvizinho\u001b[49m\u001b[43m)\u001b[49m\n\u001b[0;32m     91\u001b[0m     \u001b[38;5;28;01mif\u001b[39;00m metodo\u001b[38;5;241m==\u001b[39m\u001b[38;5;124m'\u001b[39m\u001b[38;5;124mmm\u001b[39m\u001b[38;5;124m'\u001b[39m: \u001b[38;5;66;03m# melhor melhor\u001b[39;00m\n\u001b[0;32m     92\u001b[0m         \u001b[38;5;28;01mif\u001b[39;00m vpl_atual \u001b[38;5;241m>\u001b[39m max_vpl:\n",
            "Cell \u001b[1;32mIn[3], line 62\u001b[0m, in \u001b[0;36mcalcula_vpl_total\u001b[1;34m(df, vet_solucao)\u001b[0m\n\u001b[0;32m     60\u001b[0m \u001b[38;5;28;01mdef\u001b[39;00m \u001b[38;5;21mcalcula_vpl_total\u001b[39m(df, vet_solucao):\n\u001b[0;32m     61\u001b[0m \u001b[38;5;250m    \u001b[39m\u001b[38;5;124;03m'''Calcula o VPL total penalizado'''\u001b[39;00m\n\u001b[1;32m---> 62\u001b[0m     result \u001b[38;5;241m=\u001b[39m \u001b[43mfiltra_por_solucao\u001b[49m\u001b[43m(\u001b[49m\u001b[43mdf\u001b[49m\u001b[43m,\u001b[49m\u001b[43m \u001b[49m\u001b[43mvet_solucao\u001b[49m\u001b[43m)\u001b[49m\n\u001b[0;32m     63\u001b[0m     volume_ano \u001b[38;5;241m=\u001b[39m calcula_volume(result)\n\u001b[0;32m     64\u001b[0m     \u001b[38;5;28;01mreturn\u001b[39;00m calcula_vpl_aux(result, volume_ano)\n",
            "Cell \u001b[1;32mIn[3], line 4\u001b[0m, in \u001b[0;36mfiltra_por_solucao\u001b[1;34m(df, vet_solucao)\u001b[0m\n\u001b[0;32m      2\u001b[0m \u001b[38;5;250m\u001b[39m\u001b[38;5;124;03m'''Recebe um vetor solução e retorna o df filtrado para essa solução'''\u001b[39;00m\n\u001b[0;32m      3\u001b[0m stand_prescription_map \u001b[38;5;241m=\u001b[39m {i \u001b[38;5;241m+\u001b[39m \u001b[38;5;241m1\u001b[39m: vet_solucao[i] \u001b[38;5;28;01mfor\u001b[39;00m i \u001b[38;5;129;01min\u001b[39;00m \u001b[38;5;28mrange\u001b[39m(\u001b[38;5;28mlen\u001b[39m(vet_solucao))}\n\u001b[1;32m----> 4\u001b[0m filtered_df \u001b[38;5;241m=\u001b[39m \u001b[43mdf\u001b[49m\u001b[43m[\u001b[49m\u001b[43mdf\u001b[49m\u001b[38;5;241;43m.\u001b[39;49m\u001b[43mapply\u001b[49m\u001b[43m(\u001b[49m\u001b[38;5;28;43;01mlambda\u001b[39;49;00m\u001b[43m \u001b[49m\u001b[43mrow\u001b[49m\u001b[43m:\u001b[49m\u001b[43m \u001b[49m\u001b[43mrow\u001b[49m\u001b[43m[\u001b[49m\u001b[38;5;124;43m'\u001b[39;49m\u001b[38;5;124;43mprescrição\u001b[39;49m\u001b[38;5;124;43m'\u001b[39;49m\u001b[43m]\u001b[49m\u001b[43m \u001b[49m\u001b[38;5;241;43m==\u001b[39;49m\u001b[43m \u001b[49m\u001b[43mstand_prescription_map\u001b[49m\u001b[38;5;241;43m.\u001b[39;49m\u001b[43mget\u001b[49m\u001b[43m(\u001b[49m\u001b[43mrow\u001b[49m\u001b[43m[\u001b[49m\u001b[38;5;124;43m'\u001b[39;49m\u001b[38;5;124;43mtalhao\u001b[39;49m\u001b[38;5;124;43m'\u001b[39;49m\u001b[43m]\u001b[49m\u001b[43m)\u001b[49m\u001b[43m,\u001b[49m\u001b[43m \u001b[49m\u001b[43maxis\u001b[49m\u001b[38;5;241;43m=\u001b[39;49m\u001b[38;5;241;43m1\u001b[39;49m\u001b[43m)\u001b[49m\u001b[43m]\u001b[49m\n\u001b[0;32m      5\u001b[0m \u001b[38;5;28;01mreturn\u001b[39;00m filtered_df\n",
            "File \u001b[1;32mc:\\Users\\ramos\\AppData\\Local\\Programs\\Python\\Python313\\Lib\\site-packages\\pandas\\core\\frame.py:4093\u001b[0m, in \u001b[0;36mDataFrame.__getitem__\u001b[1;34m(self, key)\u001b[0m\n\u001b[0;32m   4091\u001b[0m \u001b[38;5;66;03m# Do we have a (boolean) 1d indexer?\u001b[39;00m\n\u001b[0;32m   4092\u001b[0m \u001b[38;5;28;01mif\u001b[39;00m com\u001b[38;5;241m.\u001b[39mis_bool_indexer(key):\n\u001b[1;32m-> 4093\u001b[0m     \u001b[38;5;28;01mreturn\u001b[39;00m \u001b[38;5;28;43mself\u001b[39;49m\u001b[38;5;241;43m.\u001b[39;49m\u001b[43m_getitem_bool_array\u001b[49m\u001b[43m(\u001b[49m\u001b[43mkey\u001b[49m\u001b[43m)\u001b[49m\n\u001b[0;32m   4095\u001b[0m \u001b[38;5;66;03m# We are left with two options: a single key, and a collection of keys,\u001b[39;00m\n\u001b[0;32m   4096\u001b[0m \u001b[38;5;66;03m# We interpret tuples as collections only for non-MultiIndex\u001b[39;00m\n\u001b[0;32m   4097\u001b[0m is_single_key \u001b[38;5;241m=\u001b[39m \u001b[38;5;28misinstance\u001b[39m(key, \u001b[38;5;28mtuple\u001b[39m) \u001b[38;5;129;01mor\u001b[39;00m \u001b[38;5;129;01mnot\u001b[39;00m is_list_like(key)\n",
            "File \u001b[1;32mc:\\Users\\ramos\\AppData\\Local\\Programs\\Python\\Python313\\Lib\\site-packages\\pandas\\core\\frame.py:4155\u001b[0m, in \u001b[0;36mDataFrame._getitem_bool_array\u001b[1;34m(self, key)\u001b[0m\n\u001b[0;32m   4152\u001b[0m     \u001b[38;5;28;01mreturn\u001b[39;00m \u001b[38;5;28mself\u001b[39m\u001b[38;5;241m.\u001b[39mcopy(deep\u001b[38;5;241m=\u001b[39m\u001b[38;5;28;01mNone\u001b[39;00m)\n\u001b[0;32m   4154\u001b[0m indexer \u001b[38;5;241m=\u001b[39m key\u001b[38;5;241m.\u001b[39mnonzero()[\u001b[38;5;241m0\u001b[39m]\n\u001b[1;32m-> 4155\u001b[0m \u001b[38;5;28;01mreturn\u001b[39;00m \u001b[38;5;28;43mself\u001b[39;49m\u001b[38;5;241;43m.\u001b[39;49m\u001b[43m_take_with_is_copy\u001b[49m\u001b[43m(\u001b[49m\u001b[43mindexer\u001b[49m\u001b[43m,\u001b[49m\u001b[43m \u001b[49m\u001b[43maxis\u001b[49m\u001b[38;5;241;43m=\u001b[39;49m\u001b[38;5;241;43m0\u001b[39;49m\u001b[43m)\u001b[49m\n",
            "File \u001b[1;32mc:\\Users\\ramos\\AppData\\Local\\Programs\\Python\\Python313\\Lib\\site-packages\\pandas\\core\\generic.py:4153\u001b[0m, in \u001b[0;36mNDFrame._take_with_is_copy\u001b[1;34m(self, indices, axis)\u001b[0m\n\u001b[0;32m   4142\u001b[0m \u001b[38;5;129m@final\u001b[39m\n\u001b[0;32m   4143\u001b[0m \u001b[38;5;28;01mdef\u001b[39;00m \u001b[38;5;21m_take_with_is_copy\u001b[39m(\u001b[38;5;28mself\u001b[39m, indices, axis: Axis \u001b[38;5;241m=\u001b[39m \u001b[38;5;241m0\u001b[39m) \u001b[38;5;241m-\u001b[39m\u001b[38;5;241m>\u001b[39m Self:\n\u001b[0;32m   4144\u001b[0m \u001b[38;5;250m    \u001b[39m\u001b[38;5;124;03m\"\"\"\u001b[39;00m\n\u001b[0;32m   4145\u001b[0m \u001b[38;5;124;03m    Internal version of the `take` method that sets the `_is_copy`\u001b[39;00m\n\u001b[0;32m   4146\u001b[0m \u001b[38;5;124;03m    attribute to keep track of the parent dataframe (using in indexing\u001b[39;00m\n\u001b[1;32m   (...)\u001b[0m\n\u001b[0;32m   4151\u001b[0m \u001b[38;5;124;03m    See the docstring of `take` for full explanation of the parameters.\u001b[39;00m\n\u001b[0;32m   4152\u001b[0m \u001b[38;5;124;03m    \"\"\"\u001b[39;00m\n\u001b[1;32m-> 4153\u001b[0m     result \u001b[38;5;241m=\u001b[39m \u001b[38;5;28;43mself\u001b[39;49m\u001b[38;5;241;43m.\u001b[39;49m\u001b[43mtake\u001b[49m\u001b[43m(\u001b[49m\u001b[43mindices\u001b[49m\u001b[38;5;241;43m=\u001b[39;49m\u001b[43mindices\u001b[49m\u001b[43m,\u001b[49m\u001b[43m \u001b[49m\u001b[43maxis\u001b[49m\u001b[38;5;241;43m=\u001b[39;49m\u001b[43maxis\u001b[49m\u001b[43m)\u001b[49m\n\u001b[0;32m   4154\u001b[0m     \u001b[38;5;66;03m# Maybe set copy if we didn't actually change the index.\u001b[39;00m\n\u001b[0;32m   4155\u001b[0m     \u001b[38;5;28;01mif\u001b[39;00m \u001b[38;5;28mself\u001b[39m\u001b[38;5;241m.\u001b[39mndim \u001b[38;5;241m==\u001b[39m \u001b[38;5;241m2\u001b[39m \u001b[38;5;129;01mand\u001b[39;00m \u001b[38;5;129;01mnot\u001b[39;00m result\u001b[38;5;241m.\u001b[39m_get_axis(axis)\u001b[38;5;241m.\u001b[39mequals(\u001b[38;5;28mself\u001b[39m\u001b[38;5;241m.\u001b[39m_get_axis(axis)):\n",
            "File \u001b[1;32mc:\\Users\\ramos\\AppData\\Local\\Programs\\Python\\Python313\\Lib\\site-packages\\pandas\\core\\generic.py:4133\u001b[0m, in \u001b[0;36mNDFrame.take\u001b[1;34m(self, indices, axis, **kwargs)\u001b[0m\n\u001b[0;32m   4128\u001b[0m     \u001b[38;5;66;03m# We can get here with a slice via DataFrame.__getitem__\u001b[39;00m\n\u001b[0;32m   4129\u001b[0m     indices \u001b[38;5;241m=\u001b[39m np\u001b[38;5;241m.\u001b[39marange(\n\u001b[0;32m   4130\u001b[0m         indices\u001b[38;5;241m.\u001b[39mstart, indices\u001b[38;5;241m.\u001b[39mstop, indices\u001b[38;5;241m.\u001b[39mstep, dtype\u001b[38;5;241m=\u001b[39mnp\u001b[38;5;241m.\u001b[39mintp\n\u001b[0;32m   4131\u001b[0m     )\n\u001b[1;32m-> 4133\u001b[0m new_data \u001b[38;5;241m=\u001b[39m \u001b[38;5;28;43mself\u001b[39;49m\u001b[38;5;241;43m.\u001b[39;49m\u001b[43m_mgr\u001b[49m\u001b[38;5;241;43m.\u001b[39;49m\u001b[43mtake\u001b[49m\u001b[43m(\u001b[49m\n\u001b[0;32m   4134\u001b[0m \u001b[43m    \u001b[49m\u001b[43mindices\u001b[49m\u001b[43m,\u001b[49m\n\u001b[0;32m   4135\u001b[0m \u001b[43m    \u001b[49m\u001b[43maxis\u001b[49m\u001b[38;5;241;43m=\u001b[39;49m\u001b[38;5;28;43mself\u001b[39;49m\u001b[38;5;241;43m.\u001b[39;49m\u001b[43m_get_block_manager_axis\u001b[49m\u001b[43m(\u001b[49m\u001b[43maxis\u001b[49m\u001b[43m)\u001b[49m\u001b[43m,\u001b[49m\n\u001b[0;32m   4136\u001b[0m \u001b[43m    \u001b[49m\u001b[43mverify\u001b[49m\u001b[38;5;241;43m=\u001b[39;49m\u001b[38;5;28;43;01mTrue\u001b[39;49;00m\u001b[43m,\u001b[49m\n\u001b[0;32m   4137\u001b[0m \u001b[43m\u001b[49m\u001b[43m)\u001b[49m\n\u001b[0;32m   4138\u001b[0m \u001b[38;5;28;01mreturn\u001b[39;00m \u001b[38;5;28mself\u001b[39m\u001b[38;5;241m.\u001b[39m_constructor_from_mgr(new_data, axes\u001b[38;5;241m=\u001b[39mnew_data\u001b[38;5;241m.\u001b[39maxes)\u001b[38;5;241m.\u001b[39m__finalize__(\n\u001b[0;32m   4139\u001b[0m     \u001b[38;5;28mself\u001b[39m, method\u001b[38;5;241m=\u001b[39m\u001b[38;5;124m\"\u001b[39m\u001b[38;5;124mtake\u001b[39m\u001b[38;5;124m\"\u001b[39m\n\u001b[0;32m   4140\u001b[0m )\n",
            "File \u001b[1;32mc:\\Users\\ramos\\AppData\\Local\\Programs\\Python\\Python313\\Lib\\site-packages\\pandas\\core\\internals\\managers.py:894\u001b[0m, in \u001b[0;36mBaseBlockManager.take\u001b[1;34m(self, indexer, axis, verify)\u001b[0m\n\u001b[0;32m    891\u001b[0m indexer \u001b[38;5;241m=\u001b[39m maybe_convert_indices(indexer, n, verify\u001b[38;5;241m=\u001b[39mverify)\n\u001b[0;32m    893\u001b[0m new_labels \u001b[38;5;241m=\u001b[39m \u001b[38;5;28mself\u001b[39m\u001b[38;5;241m.\u001b[39maxes[axis]\u001b[38;5;241m.\u001b[39mtake(indexer)\n\u001b[1;32m--> 894\u001b[0m \u001b[38;5;28;01mreturn\u001b[39;00m \u001b[38;5;28;43mself\u001b[39;49m\u001b[38;5;241;43m.\u001b[39;49m\u001b[43mreindex_indexer\u001b[49m\u001b[43m(\u001b[49m\n\u001b[0;32m    895\u001b[0m \u001b[43m    \u001b[49m\u001b[43mnew_axis\u001b[49m\u001b[38;5;241;43m=\u001b[39;49m\u001b[43mnew_labels\u001b[49m\u001b[43m,\u001b[49m\n\u001b[0;32m    896\u001b[0m \u001b[43m    \u001b[49m\u001b[43mindexer\u001b[49m\u001b[38;5;241;43m=\u001b[39;49m\u001b[43mindexer\u001b[49m\u001b[43m,\u001b[49m\n\u001b[0;32m    897\u001b[0m \u001b[43m    \u001b[49m\u001b[43maxis\u001b[49m\u001b[38;5;241;43m=\u001b[39;49m\u001b[43maxis\u001b[49m\u001b[43m,\u001b[49m\n\u001b[0;32m    898\u001b[0m \u001b[43m    \u001b[49m\u001b[43mallow_dups\u001b[49m\u001b[38;5;241;43m=\u001b[39;49m\u001b[38;5;28;43;01mTrue\u001b[39;49;00m\u001b[43m,\u001b[49m\n\u001b[0;32m    899\u001b[0m \u001b[43m    \u001b[49m\u001b[43mcopy\u001b[49m\u001b[38;5;241;43m=\u001b[39;49m\u001b[38;5;28;43;01mNone\u001b[39;49;00m\u001b[43m,\u001b[49m\n\u001b[0;32m    900\u001b[0m \u001b[43m\u001b[49m\u001b[43m)\u001b[49m\n",
            "File \u001b[1;32mc:\\Users\\ramos\\AppData\\Local\\Programs\\Python\\Python313\\Lib\\site-packages\\pandas\\core\\internals\\managers.py:688\u001b[0m, in \u001b[0;36mBaseBlockManager.reindex_indexer\u001b[1;34m(self, new_axis, indexer, axis, fill_value, allow_dups, copy, only_slice, use_na_proxy)\u001b[0m\n\u001b[0;32m    680\u001b[0m     new_blocks \u001b[38;5;241m=\u001b[39m \u001b[38;5;28mself\u001b[39m\u001b[38;5;241m.\u001b[39m_slice_take_blocks_ax0(\n\u001b[0;32m    681\u001b[0m         indexer,\n\u001b[0;32m    682\u001b[0m         fill_value\u001b[38;5;241m=\u001b[39mfill_value,\n\u001b[0;32m    683\u001b[0m         only_slice\u001b[38;5;241m=\u001b[39monly_slice,\n\u001b[0;32m    684\u001b[0m         use_na_proxy\u001b[38;5;241m=\u001b[39muse_na_proxy,\n\u001b[0;32m    685\u001b[0m     )\n\u001b[0;32m    686\u001b[0m \u001b[38;5;28;01melse\u001b[39;00m:\n\u001b[0;32m    687\u001b[0m     new_blocks \u001b[38;5;241m=\u001b[39m [\n\u001b[1;32m--> 688\u001b[0m         \u001b[43mblk\u001b[49m\u001b[38;5;241;43m.\u001b[39;49m\u001b[43mtake_nd\u001b[49m\u001b[43m(\u001b[49m\n\u001b[0;32m    689\u001b[0m \u001b[43m            \u001b[49m\u001b[43mindexer\u001b[49m\u001b[43m,\u001b[49m\n\u001b[0;32m    690\u001b[0m \u001b[43m            \u001b[49m\u001b[43maxis\u001b[49m\u001b[38;5;241;43m=\u001b[39;49m\u001b[38;5;241;43m1\u001b[39;49m\u001b[43m,\u001b[49m\n\u001b[0;32m    691\u001b[0m \u001b[43m            \u001b[49m\u001b[43mfill_value\u001b[49m\u001b[38;5;241;43m=\u001b[39;49m\u001b[43m(\u001b[49m\n\u001b[0;32m    692\u001b[0m \u001b[43m                \u001b[49m\u001b[43mfill_value\u001b[49m\u001b[43m \u001b[49m\u001b[38;5;28;43;01mif\u001b[39;49;00m\u001b[43m \u001b[49m\u001b[43mfill_value\u001b[49m\u001b[43m \u001b[49m\u001b[38;5;129;43;01mis\u001b[39;49;00m\u001b[43m \u001b[49m\u001b[38;5;129;43;01mnot\u001b[39;49;00m\u001b[43m \u001b[49m\u001b[38;5;28;43;01mNone\u001b[39;49;00m\u001b[43m \u001b[49m\u001b[38;5;28;43;01melse\u001b[39;49;00m\u001b[43m \u001b[49m\u001b[43mblk\u001b[49m\u001b[38;5;241;43m.\u001b[39;49m\u001b[43mfill_value\u001b[49m\n\u001b[0;32m    693\u001b[0m \u001b[43m            \u001b[49m\u001b[43m)\u001b[49m\u001b[43m,\u001b[49m\n\u001b[0;32m    694\u001b[0m \u001b[43m        \u001b[49m\u001b[43m)\u001b[49m\n\u001b[0;32m    695\u001b[0m         \u001b[38;5;28;01mfor\u001b[39;00m blk \u001b[38;5;129;01min\u001b[39;00m \u001b[38;5;28mself\u001b[39m\u001b[38;5;241m.\u001b[39mblocks\n\u001b[0;32m    696\u001b[0m     ]\n\u001b[0;32m    698\u001b[0m new_axes \u001b[38;5;241m=\u001b[39m \u001b[38;5;28mlist\u001b[39m(\u001b[38;5;28mself\u001b[39m\u001b[38;5;241m.\u001b[39maxes)\n\u001b[0;32m    699\u001b[0m new_axes[axis] \u001b[38;5;241m=\u001b[39m new_axis\n",
            "File \u001b[1;32mc:\\Users\\ramos\\AppData\\Local\\Programs\\Python\\Python313\\Lib\\site-packages\\pandas\\core\\internals\\blocks.py:1307\u001b[0m, in \u001b[0;36mBlock.take_nd\u001b[1;34m(self, indexer, axis, new_mgr_locs, fill_value)\u001b[0m\n\u001b[0;32m   1304\u001b[0m     allow_fill \u001b[38;5;241m=\u001b[39m \u001b[38;5;28;01mTrue\u001b[39;00m\n\u001b[0;32m   1306\u001b[0m \u001b[38;5;66;03m# Note: algos.take_nd has upcast logic similar to coerce_to_target_dtype\u001b[39;00m\n\u001b[1;32m-> 1307\u001b[0m new_values \u001b[38;5;241m=\u001b[39m \u001b[43malgos\u001b[49m\u001b[38;5;241;43m.\u001b[39;49m\u001b[43mtake_nd\u001b[49m\u001b[43m(\u001b[49m\n\u001b[0;32m   1308\u001b[0m \u001b[43m    \u001b[49m\u001b[43mvalues\u001b[49m\u001b[43m,\u001b[49m\u001b[43m \u001b[49m\u001b[43mindexer\u001b[49m\u001b[43m,\u001b[49m\u001b[43m \u001b[49m\u001b[43maxis\u001b[49m\u001b[38;5;241;43m=\u001b[39;49m\u001b[43maxis\u001b[49m\u001b[43m,\u001b[49m\u001b[43m \u001b[49m\u001b[43mallow_fill\u001b[49m\u001b[38;5;241;43m=\u001b[39;49m\u001b[43mallow_fill\u001b[49m\u001b[43m,\u001b[49m\u001b[43m \u001b[49m\u001b[43mfill_value\u001b[49m\u001b[38;5;241;43m=\u001b[39;49m\u001b[43mfill_value\u001b[49m\n\u001b[0;32m   1309\u001b[0m \u001b[43m\u001b[49m\u001b[43m)\u001b[49m\n\u001b[0;32m   1311\u001b[0m \u001b[38;5;66;03m# Called from three places in managers, all of which satisfy\u001b[39;00m\n\u001b[0;32m   1312\u001b[0m \u001b[38;5;66;03m#  these assertions\u001b[39;00m\n\u001b[0;32m   1313\u001b[0m \u001b[38;5;28;01mif\u001b[39;00m \u001b[38;5;28misinstance\u001b[39m(\u001b[38;5;28mself\u001b[39m, ExtensionBlock):\n\u001b[0;32m   1314\u001b[0m     \u001b[38;5;66;03m# NB: in this case, the 'axis' kwarg will be ignored in the\u001b[39;00m\n\u001b[0;32m   1315\u001b[0m     \u001b[38;5;66;03m#  algos.take_nd call above.\u001b[39;00m\n",
            "File \u001b[1;32mc:\\Users\\ramos\\AppData\\Local\\Programs\\Python\\Python313\\Lib\\site-packages\\pandas\\core\\array_algos\\take.py:117\u001b[0m, in \u001b[0;36mtake_nd\u001b[1;34m(arr, indexer, axis, fill_value, allow_fill)\u001b[0m\n\u001b[0;32m    114\u001b[0m     \u001b[38;5;28;01mreturn\u001b[39;00m arr\u001b[38;5;241m.\u001b[39mtake(indexer, fill_value\u001b[38;5;241m=\u001b[39mfill_value, allow_fill\u001b[38;5;241m=\u001b[39mallow_fill)\n\u001b[0;32m    116\u001b[0m arr \u001b[38;5;241m=\u001b[39m np\u001b[38;5;241m.\u001b[39masarray(arr)\n\u001b[1;32m--> 117\u001b[0m \u001b[38;5;28;01mreturn\u001b[39;00m \u001b[43m_take_nd_ndarray\u001b[49m\u001b[43m(\u001b[49m\u001b[43marr\u001b[49m\u001b[43m,\u001b[49m\u001b[43m \u001b[49m\u001b[43mindexer\u001b[49m\u001b[43m,\u001b[49m\u001b[43m \u001b[49m\u001b[43maxis\u001b[49m\u001b[43m,\u001b[49m\u001b[43m \u001b[49m\u001b[43mfill_value\u001b[49m\u001b[43m,\u001b[49m\u001b[43m \u001b[49m\u001b[43mallow_fill\u001b[49m\u001b[43m)\u001b[49m\n",
            "File \u001b[1;32mc:\\Users\\ramos\\AppData\\Local\\Programs\\Python\\Python313\\Lib\\site-packages\\pandas\\core\\array_algos\\take.py:162\u001b[0m, in \u001b[0;36m_take_nd_ndarray\u001b[1;34m(arr, indexer, axis, fill_value, allow_fill)\u001b[0m\n\u001b[0;32m    157\u001b[0m     out \u001b[38;5;241m=\u001b[39m np\u001b[38;5;241m.\u001b[39mempty(out_shape, dtype\u001b[38;5;241m=\u001b[39mdtype)\n\u001b[0;32m    159\u001b[0m func \u001b[38;5;241m=\u001b[39m _get_take_nd_function(\n\u001b[0;32m    160\u001b[0m     arr\u001b[38;5;241m.\u001b[39mndim, arr\u001b[38;5;241m.\u001b[39mdtype, out\u001b[38;5;241m.\u001b[39mdtype, axis\u001b[38;5;241m=\u001b[39maxis, mask_info\u001b[38;5;241m=\u001b[39mmask_info\n\u001b[0;32m    161\u001b[0m )\n\u001b[1;32m--> 162\u001b[0m \u001b[43mfunc\u001b[49m\u001b[43m(\u001b[49m\u001b[43marr\u001b[49m\u001b[43m,\u001b[49m\u001b[43m \u001b[49m\u001b[43mindexer\u001b[49m\u001b[43m,\u001b[49m\u001b[43m \u001b[49m\u001b[43mout\u001b[49m\u001b[43m,\u001b[49m\u001b[43m \u001b[49m\u001b[43mfill_value\u001b[49m\u001b[43m)\u001b[49m\n\u001b[0;32m    164\u001b[0m \u001b[38;5;28;01mif\u001b[39;00m flip_order:\n\u001b[0;32m    165\u001b[0m     out \u001b[38;5;241m=\u001b[39m out\u001b[38;5;241m.\u001b[39mT\n",
            "\u001b[1;31mKeyboardInterrupt\u001b[0m: "
          ]
        }
      ],
      "source": [
        "# vpl_busca_local, sol_busca_local = busca_local(df_2, solucoes_alpha[2], 10, seed=11, metodo='mm', vizinhanca='sistematica')\n",
        "# print('Melhor melhor\\nVPL: ', vpl_busca_local)\n",
        "# vpl_busca_local, sol_busca_local = busca_local(df_2, solucoes_alpha[2], 10, seed=11, metodo='pm', vizinhanca='sistematica')\n",
        "# print('Melhor melhor\\nVPL: ', vpl_busca_local)"
      ]
    },
    {
      "cell_type": "code",
      "execution_count": 73,
      "metadata": {},
      "outputs": [
        {
          "data": {
            "image/png": "[encoded data removed]",
            "text/plain": [
              "<Figure size 640x480 with 1 Axes>"
            ]
          },
          "metadata": {},
          "output_type": "display_data"
        }
      ],
      "source": [
        "# plota_volume(df_2, sol_busca_local)"
      ]
    },
    {
      "cell_type": "code",
      "execution_count": 74,
      "metadata": {},
      "outputs": [
        {
          "data": {
            "text/plain": [
              "array([37, 55, 19, 64, 55, 19, 19, 37, 37, 37, 64, 64, 46, 40, 10, 64, 64,\n",
              "       58, 73, 34, 34, 37, 37, 73, 10, 22, 31, 19, 64, 19, 10,  7, 40, 22,\n",
              "       73, 31, 61, 46, 31, 40, 61, 49, 49, 58, 25, 43, 31,  7, 37, 13, 16,\n",
              "       61, 61, 25, 13, 10, 55, 10, 37, 34, 10,  4, 64, 67, 73, 61, 16, 10,\n",
              "       25, 55, 19, 55, 16,  1, 31, 34, 64,  4, 43, 34,  4,  4, 61,  1, 76,\n",
              "       34, 28,  2, 22, 52, 46, 28, 13,  7, 73, 52, 31, 19,  7, 37, 70, 58,\n",
              "       79,  2, 58, 40, 13,  2,  4, 16, 67,  2, 61, 19, 16, 67, 58,  7, 22,\n",
              "       55])"
            ]
          },
          "execution_count": 74,
          "metadata": {},
          "output_type": "execute_result"
        }
      ],
      "source": [
        "# sol_busca_local"
      ]
    },
    {
      "cell_type": "markdown",
      "metadata": {},
      "source": [
        "---\n",
        "\n",
        "# Simulated Annealing"
      ]
    },
    {
      "cell_type": "code",
      "execution_count": 14,
      "metadata": {},
      "outputs": [],
      "source": [
        "import math\n",
        "\n",
        "# Colocar um numero k de iterações para cada temperatura\n",
        "\n",
        "def simulated_annealing(df, sol_atual, initial_temp=1000, final_temp=1, cooling_rate=0.995):\n",
        "    \"\"\"Resolve o problema do TSP usando Simulated Annealing.\"\"\"\n",
        "    # Solução inicial\n",
        "    inicio = time.time()\n",
        "    temperature = initial_temp\n",
        "    \n",
        "    vpl_atual = calcula_vpl_total(df, sol_atual)\n",
        "    \n",
        "    melhor_sol = sol_atual\n",
        "    melhor_vpl = vpl_atual\n",
        "    \n",
        "    while temperature > final_temp:\n",
        "        # Gera uma solução vizinha\n",
        "        nova_sol = gera_vizinhos(df, sol_atual)\n",
        "        nova_sol = varre_vizinhos(nova_sol, sol_atual, df, 'mm')\n",
        "        novo_vpl = calcula_vpl_total(df, nova_sol)\n",
        "        \n",
        "        # Verifica se a nova solução é aceita\n",
        "        if novo_vpl > vpl_atual:\n",
        "            sol_atual = nova_sol\n",
        "            vpl_atual = novo_vpl\n",
        "        else:\n",
        "            acceptance_prob = math.exp((novo_vpl - vpl_atual) / temperature)\n",
        "            if random.random() < acceptance_prob:\n",
        "                sol_atual = nova_sol\n",
        "                vpl_atual = novo_vpl\n",
        "        \n",
        "        # Atualiza a melhor solução encontrada\n",
        "        if vpl_atual > melhor_vpl:\n",
        "            melhor_sol = sol_atual\n",
        "            melhor_vpl = vpl_atual\n",
        "        \n",
        "        # Resfriamento\n",
        "        temperature *= cooling_rate\n",
        "    \n",
        "    return (melhor_vpl, melhor_sol)\n"
      ]
    },
    {
      "cell_type": "code",
      "execution_count": 15,
      "metadata": {},
      "outputs": [
        {
          "name": "stdout",
          "output_type": "stream",
          "text": [
            "Melhor vpl:  30254971.0\n"
          ]
        }
      ],
      "source": [
        "random.seed(1)\n",
        "vpl_sa, sol_sa = simulated_annealing(df_2, solucoes_alpha[2])\n",
        "print('Melhor vpl: ', vpl_sa)"
      ]
    },
    {
      "cell_type": "code",
      "execution_count": 77,
      "metadata": {},
      "outputs": [
        {
          "data": {
            "text/plain": [
              "array([ 4, 46, 64,  1, 31, 31, 64, 37,  4, 64, 64, 37, 46, 40, 31, 73, 64,\n",
              "       64, 64, 40, 40, 31, 19, 73,  4, 58,  7, 37, 64, 40, 28, 31, 64, 46,\n",
              "       67, 31, 37, 67, 37, 40, 67, 13, 67, 64, 28, 37, 31, 10, 43, 13, 40,\n",
              "       67, 49, 25, 37, 28, 37, 73,  7, 34, 67, 10, 34, 43, 67, 43, 16, 28,\n",
              "       43, 37, 13, 31, 58, 70, 37, 46, 64,  4, 43, 64, 28, 10, 43, 76, 76,\n",
              "       40, 10, 10, 64, 52, 40, 28, 31,  7, 43, 52, 37, 37,  7, 37, 28, 58,\n",
              "       79,  2, 22, 40, 13,  4, 10, 10, 22,  2, 67, 13, 16, 16, 10,  7, 10,\n",
              "       10])"
            ]
          },
          "execution_count": 77,
          "metadata": {},
          "output_type": "execute_result"
        }
      ],
      "source": [
        "sol_sa"
      ]
    }
  ],
  "metadata": {
    "colab": {
      "provenance": []
    },
    "kernelspec": {
      "display_name": "Python 3",
      "name": "python3"
    },
    "language_info": {
      "codemirror_mode": {
        "name": "ipython",
        "version": 3
      },
      "file_extension": ".py",
      "mimetype": "text/x-python",
      "name": "python",
      "nbconvert_exporter": "python",
      "pygments_lexer": "ipython3",
      "version": "3.13.0"
    }
  },
  "nbformat": 4,
  "nbformat_minor": 0
}
