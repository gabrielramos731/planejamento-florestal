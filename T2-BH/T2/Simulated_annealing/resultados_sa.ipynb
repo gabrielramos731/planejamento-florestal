{
 "cells": [
  {
   "cell_type": "code",
   "execution_count": 13,
   "metadata": {},
   "outputs": [
    {
     "data": {
      "text/plain": [
       "<module 'experimentos' from 'c:\\\\dev\\\\Busca Heuristica\\\\T2-BH\\\\T2\\\\experimentos.py'>"
      ]
     },
     "execution_count": 13,
     "metadata": {},
     "output_type": "execute_result"
    }
   ],
   "source": [
    "import sys\n",
    "import os\n",
    "sys.path.append(os.path.abspath(os.path.join(os.getcwd(), '..')))\n",
    "import experimentos\n",
    "\n",
    "import importlib\n",
    "import numpy as np\n",
    "import matplotlib.pyplot as plt\n",
    "from matplotlib import ticker\n",
    "import pandas as pd\n",
    "import json\n",
    "importlib.reload(experimentos)"
   ]
  },
  {
   "cell_type": "markdown",
   "metadata": {},
   "source": [
    "# Carregamento"
   ]
  },
  {
   "cell_type": "code",
   "execution_count": 14,
   "metadata": {},
   "outputs": [],
   "source": [
    "def numpy_to_python(obj):\n",
    "    '''Converte np.int e np.float para int e float dos dados do dicionário'''\n",
    "    if isinstance(obj, (np.integer, np.floating)):\n",
    "        return obj.item()\n",
    "    \n",
    "def python_to_numpy(dicionario):\n",
    "    '''Converte int e float para np.int e np.float dos dados do dicionário'''\n",
    "    for chave, subdict in dicionario.items():\n",
    "        for subchave, valor in subdict.items():\n",
    "            if isinstance(valor, int):\n",
    "                subdict[subchave] = np.int64(valor)\n",
    "            elif isinstance(valor, float):\n",
    "                subdict[subchave] = np.float64(valor)\n",
    "                \n",
    "    dicionario = {np.int64(key): valor for key, valor in dicionario.items()}\n",
    "    return dicionario"
   ]
  },
  {
   "cell_type": "code",
   "execution_count": 15,
   "metadata": {},
   "outputs": [],
   "source": [
    "# Carrega os experimentos do SA\n",
    "num_calculos_obj = [5000, 10000, 25000, 50000]\n",
    "\n",
    "caminho_v1 = 'bkp_resultados_sa/sa_v1_experimentos.json'\n",
    "with open(caminho_v1, 'r', encoding='utf-8') as arquivo:\n",
    "    v1 = python_to_numpy(json.load(arquivo))\n",
    "    v1_resultados = experimentos.experimento(v1, num_calculos_obj)\n",
    "    v1_resultados.calcula_estatisticas()\n",
    "    \n",
    "caminho_v2 = 'bkp_resultados_sa/sa_v2_experimentos.json'\n",
    "with open(caminho_v2, 'r', encoding='utf-8') as arquivo:\n",
    "    v2 = python_to_numpy(json.load(arquivo))\n",
    "    v2_resultados = experimentos.experimento(v2, num_calculos_obj)\n",
    "    v2_resultados.calcula_estatisticas()\n",
    "    \n",
    "caminho_v3 = 'bkp_resultados_sa/sa_v3_experimentos.json'\n",
    "with open(caminho_v3, 'r', encoding='utf-8') as arquivo:\n",
    "    v3 = python_to_numpy(json.load(arquivo))\n",
    "    v3_resultados = experimentos.experimento(v3, num_calculos_obj)\n",
    "    v3_resultados.calcula_estatisticas()"
   ]
  },
  {
   "cell_type": "markdown",
   "metadata": {},
   "source": [
    "# Resultados Simulated Annealing"
   ]
  },
  {
   "cell_type": "markdown",
   "metadata": {},
   "source": [
    "## Comparações numéricas das vizinhanças e métodos com valor de referência"
   ]
  },
  {
   "cell_type": "markdown",
   "metadata": {},
   "source": [
    "Valor de referência: R$ 32.170.883\n",
    "\n",
    "$$Eficiência = \\frac{VPL_{Médio}}{VPL_{Referência}}$$"
   ]
  },
  {
   "cell_type": "code",
   "execution_count": null,
   "metadata": {},
   "outputs": [],
   "source": [
    "def dicionarios_para_dataframe(dicionarios, nomes):\n",
    "    dados = []\n",
    "    indices = []\n",
    "    for nome, dicionario in zip(nomes, dicionarios):\n",
    "        for num_calculos, metodos in dicionario.items():\n",
    "            for metodo, valores in metodos.items():\n",
    "                indices.append((nome, metodo, num_calculos))\n",
    "                dados.append([valores[\"media\"], valores[\"maximo\"], valores[\"minimo\"]])\n",
    "    # Criar o DataFrame com índice no formato de tuplas\n",
    "    df = pd.DataFrame(dados, \n",
    "                      index=pd.MultiIndex.from_tuples(indices, names=[\"Vn\", \"Metodo\", \"NumCalculos\"]),\n",
    "                      columns=[\"Media\", \"Maximo\", \"Minimo\"])\n",
    "    \n",
    "    # Calcular a eficiência (Média / 32170883)\n",
    "    df[\"Eficiência\"] = df[\"Media\"] / 32170883\n",
    "    \n",
    "    # Definir a exibição de números para evitar notação científica\n",
    "    pd.set_option('display.float_format', '{:,.3f}'.format)\n",
    "    \n",
    "    return df\n",
    "\n",
    "\n",
    "# Criar o DataFrame\n",
    "dfs = [v1_resultados.estatisticas, v2_resultados.estatisticas, v3_resultados.estatisticas]\n",
    "nomes = [\"Aleatória\", \"Localizada\", \"Sistemática\"]\n",
    "df = dicionarios_para_dataframe(dfs, nomes)\n",
    "\n",
    "# Exibir o DataFrame\n",
    "df\n",
    "df.groupby([\"Vn\", \"Metodo\", \"NumCalculos\"]).mean()"
   ]
  },
  {
   "cell_type": "markdown",
   "metadata": {},
   "source": [
    "## Comparação dos métodos MM e PM para cada vizinhança"
   ]
  },
  {
   "cell_type": "code",
   "execution_count": null,
   "metadata": {},
   "outputs": [],
   "source": [
    "fig, axs = plt.subplots(3,1, figsize=(8,16))\n",
    "plt.rcParams.update({'font.size': 10})\n",
    "\n",
    "plt.sca(axs[0])\n",
    "v1_resultados.plota_experimento(medida='media', vizinhanca='Aleatória')\n",
    "plt.sca(axs[1])\n",
    "v2_resultados.plota_experimento(medida='media', vizinhanca='Localizada')\n",
    "plt.sca(axs[2])\n",
    "v3_resultados.plota_experimento(medida='media', vizinhanca='Sistemática')\n",
    "\n",
    "plt.show()"
   ]
  },
  {
   "cell_type": "markdown",
   "metadata": {},
   "source": [
    "## Comparação do VPL médio das diferentes vizinhanças"
   ]
  },
  {
   "cell_type": "markdown",
   "metadata": {},
   "source": [
    "**Olhar quem é melhor antes de plotar aqui (MM ou PM)!!!**"
   ]
  },
  {
   "cell_type": "code",
   "execution_count": 18,
   "metadata": {},
   "outputs": [],
   "source": [
    "# Pega melhor método de cada experimento\n",
    "\n",
    "v1_mm_media = []\n",
    "for chave, subdict in v1_resultados.estatisticas.items():\n",
    "    for subchave, valor in subdict.items():\n",
    "        if subchave == 'mm':\n",
    "            v1_mm_media.append(valor.get('media'))\n",
    "            \n",
    "v2_mm_media = []\n",
    "for chave, subdict in v2_resultados.estatisticas.items():\n",
    "    for subchave, valor in subdict.items():\n",
    "        if subchave == 'mm':\n",
    "            v2_mm_media.append(valor.get('media'))\n",
    "            \n",
    "v3_pm_media = []\n",
    "for chave, subdict in v3_resultados.estatisticas.items():\n",
    "    for subchave, valor in subdict.items():\n",
    "        if subchave == 'pm':\n",
    "            v3_pm_media.append(valor.get('media'))"
   ]
  },
  {
   "cell_type": "code",
   "execution_count": null,
   "metadata": {},
   "outputs": [],
   "source": [
    "plt.plot(v1_resultados.num_calculos_obj, \n",
    "         v1_mm_media, \n",
    "         label='Aleatória (MM)', \n",
    "         marker='o')\n",
    "plt.plot(v2_resultados.num_calculos_obj, \n",
    "         v2_mm_media, \n",
    "         label='Localizada (MM)', \n",
    "         marker='o')\n",
    "plt.plot(v3_resultados.num_calculos_obj, \n",
    "         v3_pm_media, \n",
    "         label='Sistemaática (PM)', \n",
    "         marker='o')\n",
    "\n",
    "plt.title('VPL médio por número de cálculos de função objetivo')\n",
    "plt.xlabel('Número de cálculos de função objetivo', fontsize=12)\n",
    "plt.ylabel('VPL', fontsize=12)\n",
    "plt.gca().yaxis.set_major_formatter(ticker.FuncFormatter(lambda x, pos: '{:,.0f}'.format(x)))\n",
    "plt.ticklabel_format(style='plain', axis='x') \n",
    "plt.legend()\n",
    "plt.grid()\n",
    "plt.show()"
   ]
  }
 ],
 "metadata": {
  "kernelspec": {
   "display_name": "Python 3",
   "language": "python",
   "name": "python3"
  },
  "language_info": {
   "codemirror_mode": {
    "name": "ipython",
    "version": 3
   },
   "file_extension": ".py",
   "mimetype": "text/x-python",
   "name": "python",
   "nbconvert_exporter": "python",
   "pygments_lexer": "ipython3",
   "version": "3.13.0"
  }
 },
 "nbformat": 4,
 "nbformat_minor": 2
}
