{
  "cells": [
    {
      "cell_type": "markdown",
      "metadata": {
        "id": "bcHS1a2fQbU5"
      },
      "source": [
        "# Bibliotecas"
      ]
    },
    {
      "cell_type": "code",
      "execution_count": 4,
      "metadata": {
        "id": "SHE8gsMQB6b-"
      },
      "outputs": [],
      "source": [
        "import pandas as pd\n",
        "import numpy as np\n",
        "import matplotlib.pyplot as plt\n",
        "import json\n",
        "from matplotlib import ticker"
      ]
    },
    {
      "cell_type": "markdown",
      "metadata": {
        "id": "AiHfgWMzQZYv"
      },
      "source": [
        "# Base de dados"
      ]
    },
    {
      "cell_type": "code",
      "execution_count": 5,
      "metadata": {
        "id": "6ARnpc7eCUwG"
      },
      "outputs": [],
      "source": [
        "df = pd.read_excel('../Base120.xlsx')"
      ]
    },
    {
      "cell_type": "code",
      "execution_count": 6,
      "metadata": {
        "id": "GrH8POMrdhJV"
      },
      "outputs": [],
      "source": [
        "def filtra_por_solucao(df, vet_solucao):\n",
        "    '''Recebe um vetor solução e retorna o df filtrado para essa solução'''\n",
        "    stand_prescription_map = {i + 1: vet_solucao[i] for i in range(len(vet_solucao))}\n",
        "    filtered_df = df[df.apply(lambda row: row['prescrição'] == stand_prescription_map.get(row['talhao']), axis=1)]\n",
        "    return filtered_df\n",
        "\n",
        "def calcula_volume(result):\n",
        "\t\"\"\"\n",
        "\tCalculate the volume by summing specific columns of a DataFrame.\n",
        "\tThis function takes a DataFrame `result` and returns the sum of the values\n",
        "\tin columns 3 to 18 (inclusive).\n",
        "\tParameters:\n",
        "\tresult (pandas.DataFrame): The input DataFrame containing the data.\n",
        "\tReturns:\n",
        "\tpandas.Series: A Series containing the sum of the specified columns.\n",
        "\t\"\"\"\n",
        "\t\n",
        "    \n",
        "\treturn result.iloc[:, 3:19].sum()\n",
        "\n",
        "def calcula_penalidade(volume_anual):\n",
        "    '''retorna penalidade por volume excedente/faltante (R$500)'''\n",
        "    upper = []\n",
        "    lower = []\n",
        "    for v_ano in volume_anual:\n",
        "        if v_ano < 140000:\n",
        "            lower.append(np.abs(v_ano - 140000))\n",
        "        elif v_ano > 160000:\n",
        "            upper.append(np.abs(v_ano - 160000))\n",
        "    return np.sum(upper + lower)*500\n",
        "\n",
        "def calcula_vpl_aux(result, volume_ano):\n",
        "    '''Calcula o VPL penalizado (função auxiliar)'''\n",
        "    return np.sum(result['VPL']) - calcula_penalidade(volume_ano)\n",
        "\n",
        "def plota_volume(df, vet_sol):\n",
        "    '''Plota o gráfico do volume nos anos'''\n",
        "    volume_ano = filtra_por_solucao(df, vet_sol).iloc[:, 3:19].sum()\n",
        "    (volume_ano/1000).plot(kind='bar')\n",
        "    plt.hlines(140, xmin=-1, xmax=16, color='red', alpha=.6)\n",
        "    plt.hlines(160, xmin=-1, xmax=16, color='red', alpha=.6)\n",
        "    plt.title(\"Volume de madeira por ano\")\n",
        "    plt.xlabel(\"Ano de Produção\")\n",
        "    plt.ylabel(\"Volume (1000 m$^3$)\")\n",
        "\n",
        "def calcula_volume_aux(df, vet_sol):\n",
        "\t\"\"\"\n",
        "\tCalculate the auxiliary volume based on the given solution vector.\n",
        "\tThis function filters the DataFrame `df` using the solution vector `vet_sol`\n",
        "\tand then sums the values in columns 3 to 18 (inclusive) of the filtered DataFrame.\n",
        "\tParameters:\n",
        "\tdf (pandas.DataFrame): The input DataFrame containing the data.\n",
        "\tvet_sol (list or array-like): The solution vector used to filter the DataFrame.\n",
        "\tReturns:\n",
        "\tpandas.Series: A Series containing the sum of the values in columns 3 to 18 of the filtered DataFrame.\n",
        "\t\"\"\"\n",
        "    \n",
        "\treturn filtra_por_solucao(df, vet_sol).iloc[:, 3:19].sum()\n",
        "\n",
        "def calcula_vpl_total(df, vet_solucao):\n",
        "    '''Calcula o VPL total penalizado'''\n",
        "    result = filtra_por_solucao(df, vet_solucao)\n",
        "    volume_ano = calcula_volume(result)\n",
        "    return calcula_vpl_aux(result, volume_ano)\n",
        "\n",
        "def encontra_pior_ano(df, sol):\n",
        "    volume_ano = calcula_volume_aux(df, sol)\n",
        "    return np.argmax(np.abs(volume_ano-160000)) + 1\n",
        "\n",
        "def numpy_to_python(obj):\n",
        "    '''Converte np.int e np.float para int e float dos dados do dicionário'''\n",
        "    if isinstance(obj, (np.integer, np.floating)):\n",
        "        return obj.item()\n",
        "    \n",
        "def python_to_numpy(dicionario):\n",
        "    '''Converte int e float para np.int e np.float dos dados do dicionário'''\n",
        "    for chave, subdict in dicionario.items():\n",
        "        for subchave, valor in subdict.items():\n",
        "            if isinstance(valor, int):\n",
        "                subdict[subchave] = np.int64(valor)\n",
        "            elif isinstance(valor, float):\n",
        "                subdict[subchave] = np.float64(valor)\n",
        "                \n",
        "    dicionario = {np.int64(key): valor for key, valor in dicionario.items()}\n",
        "    return dicionario"
      ]
    },
    {
      "cell_type": "markdown",
      "metadata": {
        "id": "6C9bhrPljqMU"
      },
      "source": [
        "---\n",
        "\n",
        "## Alteração na base de dados"
      ]
    },
    {
      "cell_type": "code",
      "execution_count": 7,
      "metadata": {
        "id": "ebJhMLXjjolW"
      },
      "outputs": [],
      "source": [
        "df_2 = df.drop_duplicates(subset=['talhao'] + df.columns[3:].tolist(), keep='first')\n",
        "df_2.to_csv('base_reduzida.csv', index=False)"
      ]
    },
    {
      "cell_type": "markdown",
      "metadata": {
        "id": "AL838mXyV8cm"
      },
      "source": [
        "## Soluções importadas\n"
      ]
    },
    {
      "cell_type": "code",
      "execution_count": 8,
      "metadata": {
        "id": "TfwK8-xwV7iN"
      },
      "outputs": [],
      "source": [
        "with open(\"../solucoes_alpha.json\", \"r\") as arquivo: # soluções geradas por heurística construtiva\n",
        "    solucoes_alpha = json.load(arquivo)\n",
        "solucoes_alpha = [np.array(sol) for sol in solucoes_alpha]"
      ]
    },
    {
      "cell_type": "code",
      "execution_count": 28,
      "metadata": {
        "id": "MhkvOuD3mbBz"
      },
      "outputs": [],
      "source": [
        "import random\n",
        "import heapq\n",
        "import math\n",
        "\n",
        "def gera_vizinhos(df, vet_solucao):\n",
        "    \"\"\"\n",
        "    Gera vizinhos de um talhão sorteado\n",
        "    \"\"\"\n",
        "    talhao_sorteado = random.randint(0, 119)\n",
        "    prescricao_sorteada = np.random.choice(df[df['talhao'] == talhao_sorteado+1]['prescrição'].unique()) # sorteia prescrição\n",
        "\n",
        "    vizinho = vet_solucao.copy()\n",
        "    vizinho[talhao_sorteado] = prescricao_sorteada # altera solução\n",
        "    return vizinho\n",
        "\n",
        "def gera_vizinhos_localizado(df, solucao):\n",
        "    \"\"\"\n",
        "    Gera uma lista de vizinhos localizados para uma solução dada.\n",
        "    Esta função identifica o pior ano em uma solução e, em seguida, encontra\n",
        "    todos os talhões que podem ser colhidos naquele ano com base nas idades\n",
        "    de colheita fornecidas.\n",
        "    Args:\n",
        "        df (pd.DataFrame): DataFrame contendo informações sobre os talhões,\n",
        "                             incluindo a idade de cada talhão.\n",
        "        solucao (list): Lista representando a solução atual.\n",
        "        idade_colheita (dict): Dicionário onde as chaves são anos e os valores\n",
        "                               são listas de idades possíveis para colheita\n",
        "                               naquele ano.\n",
        "    Returns:\n",
        "        None: A função imprime o pior ano e os talhões possíveis para colheita\n",
        "              naquele ano.\n",
        "    \"\"\"\n",
        "    \n",
        "    idade_colheita = {1: ['5', '6'],\n",
        "                  2: ['4', '5', '6'],\n",
        "\t\t\t\t  3: ['3', '4', '5'],\n",
        "\t\t\t\t  4: ['2', '3', '4'],\n",
        "\t\t\t\t  5: ['1', '2', '3'],\n",
        "\t\t\t\t  6: ['1', '2', '5', '6'],\n",
        "\t\t\t\t  7: ['1', '4', '5', '6'],\n",
        "\t\t\t\t  8: ['3', '4', '5', '6'],\n",
        "\t\t\t\t  9: ['2', '3', '4', '5', '6'],\n",
        "\t\t\t\t  10: ['1', '2', '3', '4', '5'],\n",
        "\t\t\t\t  11: ['1', '2', '3', '4', '5', '6'],\n",
        "\t\t\t\t  12: ['1', '2', '3', '4', '5', '6'],\n",
        "\t\t\t\t  13: ['1', '2', '3', '4', '5', '6'],\n",
        "\t\t\t\t  14: ['1', '2', '3', '4', '5', '6'],\n",
        "\t\t\t\t  15: ['1', '2', '3', '4', '5', '6'],\n",
        "\t\t\t\t  16: ['1', '2', '3', '4', '5', '6']}\n",
        "    pior_ano = encontra_pior_ano(df, solucao)\n",
        "    possiveis_idades = idade_colheita[pior_ano]\n",
        "    possiveis_talhoes = df[np.isin(df.loc[:, 'idade'], list(map(int, possiveis_idades)))]['talhao'].unique() # talhoes que podem fazer colheita naquele ano\n",
        "    talhao_sorteado = random.sample(list(possiveis_talhoes), 1) # talhão sorteado\n",
        "    prescricao_talhao = np.random.choice(df[df['talhao'] == talhao_sorteado[0]]['prescrição'].unique()) # prescrição sorteada\n",
        "    vizinho = solucao.copy()\n",
        "    vizinho[talhao_sorteado[0]-1] = prescricao_talhao # altera solução\n",
        "\n",
        "    return vizinho\n",
        "\n",
        "def simulated_annealing(df, sol_atual, **kwargs):\n",
        "    temperatura = kwargs.get('temp_inicial', 1000)\n",
        "    final_temp = kwargs.get('final_temp', 1)\n",
        "    cooling_rate = kwargs.get('cooling_rate', 0.9)\n",
        "    vizinhanca = kwargs.get('vizinhanca', 'aleatoria')\n",
        "    max_calculos_obj = kwargs.get('max_calculos_obj', 10000)\n",
        "    max_iter = kwargs.get('max_iter', 100)\n",
        "    random.seed(kwargs.get('seed', 42))\n",
        "\n",
        "    counter_calculos_obj, count_aceitou, count_nao_aceitou = 0, 0, 0\n",
        "    melhor_solucao_global = sol_atual\n",
        "    melhor_vpl_global = calcula_vpl_total(df, sol_atual)\n",
        "\n",
        "    while temperatura > final_temp:\n",
        "        if counter_calculos_obj >= max_calculos_obj:\n",
        "            print(\"Número máximo de cálculos atingido\")\n",
        "            break\n",
        "        for _ in range(max_iter): # número de iterações por temperatura\n",
        "            if counter_calculos_obj >= max_calculos_obj:\n",
        "                break\n",
        "            \n",
        "            # Geração de vizinhos\n",
        "            if vizinhanca == 'aleatoria':\n",
        "                novo_vizinho = gera_vizinhos(df, sol_atual)\n",
        "            elif vizinhanca == 'localizada':\n",
        "                novo_vizinho = gera_vizinhos_localizado(df, sol_atual)\n",
        "\n",
        "            vpl_novo_vizinho = calcula_vpl_total(df, novo_vizinho)\n",
        "            vpl_atual = calcula_vpl_total(df, sol_atual)\n",
        "            counter_calculos_obj += 2\n",
        "\n",
        "            rand = random.random()\n",
        "            prob = math.exp(-(vpl_atual - vpl_novo_vizinho) / temperatura)\n",
        "            \n",
        "            # Aceitação da solução\n",
        "            if vpl_novo_vizinho > vpl_atual or rand < prob:\n",
        "                sol_atual = novo_vizinho\n",
        "                if vpl_novo_vizinho > melhor_vpl_global:\n",
        "                    melhor_vpl_global = vpl_novo_vizinho\n",
        "                    melhor_solucao_global = novo_vizinho\n",
        "                count_aceitou += 1\n",
        "            else:\n",
        "                count_nao_aceitou += 1\n",
        "        temperatura *= cooling_rate\n",
        "        \n",
        "    print(f'Temperatura: {temperatura:.2f} | Aceitou: {count_aceitou} | Não aceitou: {count_nao_aceitou}')\n",
        "    return melhor_vpl_global, melhor_solucao_global"
      ]
    },
    {
      "cell_type": "markdown",
      "metadata": {},
      "source": [
        "---"
      ]
    },
    {
      "cell_type": "code",
      "execution_count": 101,
      "metadata": {},
      "outputs": [],
      "source": [
        "class experimento:\n",
        "    \"\"\"\n",
        "    Classe para realizar experimentos e calcular estatísticas sobre os resultados.\n",
        "    Atributos:\n",
        "    ----------\n",
        "    resultados : dict\n",
        "        Dicionário contendo os resultados dos experimentos.\n",
        "    media : float\n",
        "        Média dos resultados.\n",
        "    maximo : float\n",
        "        Valor máximo dos resultados.\n",
        "    minimo : float\n",
        "        Valor mínimo dos resultados.\n",
        "    std : float\n",
        "        Desvio padrão dos resultados.\n",
        "    estatisticas : dict\n",
        "        Dicionário contendo as estatísticas calculadas para cada número de cálculos de função objetivo.\n",
        "    Métodos:\n",
        "    --------\n",
        "    __init__(self, resultados):\n",
        "        Inicializa a classe com os resultados fornecidos.\n",
        "    calcula_estatisticas(self):\n",
        "        Calcula as estatísticas (média, máximo, mínimo e desvio padrão) para os resultados fornecidos.\n",
        "    plota_experimento(self, medida='media'):\n",
        "        Plota os resultados do experimento com base na medida especificada (padrão é 'media').\n",
        "    \"\"\"\n",
        "    \n",
        "    def __init__(self, resultados, num_calculos_obj):\n",
        "        self.resultados = resultados\n",
        "        self.media = 0\n",
        "        self.maximo = 0\n",
        "        self.minimo = 0\n",
        "        self.std = 0\n",
        "        self.num_calculos_obj = num_calculos_obj\n",
        "        self.estatisticas = {num: {'mm': {'media': self.media, \n",
        "                                          'maximo': self.maximo, \n",
        "                                          'minimo': self.minimo,\n",
        "                                          'std': self.std},\n",
        "                                   'pm': {'media': self.media, \n",
        "                                          'maximo': self.maximo, \n",
        "                                          'minimo': self.minimo,\n",
        "                                          'std': self.std}} for num in self.num_calculos_obj}\n",
        "    \n",
        "    def calcula_estatisticas(self):\n",
        "        for max_calc, inner in self.resultados.items():\n",
        "            for k, v in inner.items():\n",
        "                self.estatisticas[max_calc][k]['media'] = np.mean(v)\n",
        "                self.estatisticas[max_calc][k]['maximo'] = np.max(v)\n",
        "                self.estatisticas[max_calc][k]['minimo'] = np.min(v)\n",
        "                self.estatisticas[max_calc][k]['std'] = np.std(v)\n",
        "\n",
        "    def plota_experimento(self, medida='media', vizinhanca='Aleatória'):\n",
        "        x = self.estatisticas.keys()\n",
        "        medias_mm = []\n",
        "        medias_pm = []\n",
        "        for _, inner_dict in self.estatisticas.items():\n",
        "            for metodo, v in inner_dict.items():\n",
        "                if metodo == 'mm':\n",
        "                    medias_mm.append(v[medida])\n",
        "                if metodo == 'pm':\n",
        "                    medias_pm.append(v[medida])\n",
        "\n",
        "        # plt.plot(x, medias_mm, '-o', label='MM')\n",
        "        plt.plot(x, medias_pm, '-o', label='PM')\n",
        "            \n",
        "        plt.xlabel('Número de cálculos de função objetivo', fontsize=12)\n",
        "        plt.ylabel('VPL', fontsize=12)\n",
        "        plt.title(f'VPL médio por número de cálculos de função objetivo e vizinhança {vizinhanca}')\n",
        "        plt.grid(True)\n",
        "        plt.legend()\n",
        "        plt.gca().yaxis.set_major_formatter(ticker.FuncFormatter(lambda x, pos: '{:,.0f}'.format(x)))\n",
        "        plt.ticklabel_format(style='plain', axis='x') "
      ]
    },
    {
      "cell_type": "code",
      "execution_count": 123,
      "metadata": {},
      "outputs": [],
      "source": [
        "num_calculos_obj = [5000, 10000, 25000, 50000]\n",
        "numero_rando_exp = range(15)"
      ]
    },
    {
      "cell_type": "markdown",
      "metadata": {},
      "source": [
        "# Simulated Annealing"
      ]
    },
    {
      "cell_type": "markdown",
      "metadata": {},
      "source": [
        "## V1 - Vizinhança aleatória"
      ]
    },
    {
      "cell_type": "code",
      "execution_count": 119,
      "metadata": {},
      "outputs": [
        {
          "name": "stdout",
          "output_type": "stream",
          "text": [
            "\n",
            "Experimento 1 iniciado\n",
            "\n",
            "Número de cálculos: 50\n",
            "Número máximo de cálculos atingido\n",
            "Temperatura: 98010.00 | Aceitou: 11 | Não aceitou: 14\n",
            "Primeiro melhor\n",
            "VPL:  -8481370\n",
            "\n",
            "Número de cálculos: 100\n",
            "Número máximo de cálculos atingido\n",
            "Temperatura: 97029.90 | Aceitou: 15 | Não aceitou: 35\n",
            "Primeiro melhor\n",
            "VPL:  -1706850\n",
            "\n",
            "Número de cálculos: 150\n",
            "Número máximo de cálculos atingido\n",
            "Temperatura: 96059.60 | Aceitou: 22 | Não aceitou: 53\n",
            "Primeiro melhor\n",
            "VPL:  12094071\n",
            "\n",
            "Experimento 2 iniciado\n",
            "\n",
            "Número de cálculos: 50\n",
            "Número máximo de cálculos atingido\n",
            "Temperatura: 98010.00 | Aceitou: 8 | Não aceitou: 17\n",
            "Primeiro melhor\n",
            "VPL:  -29136932\n",
            "\n",
            "Número de cálculos: 100\n",
            "Número máximo de cálculos atingido\n",
            "Temperatura: 97029.90 | Aceitou: 20 | Não aceitou: 30\n",
            "Primeiro melhor\n",
            "VPL:  -9986392\n",
            "\n",
            "Número de cálculos: 150\n",
            "Número máximo de cálculos atingido\n",
            "Temperatura: 96059.60 | Aceitou: 19 | Não aceitou: 56\n",
            "Primeiro melhor\n",
            "VPL:  8061373\n",
            "\n",
            "Experimento 3 iniciado\n",
            "\n",
            "Número de cálculos: 50\n",
            "Número máximo de cálculos atingido\n",
            "Temperatura: 98010.00 | Aceitou: 8 | Não aceitou: 17\n",
            "Primeiro melhor\n",
            "VPL:  -23754066\n",
            "\n",
            "Número de cálculos: 100\n",
            "Número máximo de cálculos atingido\n",
            "Temperatura: 97029.90 | Aceitou: 20 | Não aceitou: 30\n",
            "Primeiro melhor\n",
            "VPL:  -8609607\n",
            "\n",
            "Número de cálculos: 150\n",
            "Número máximo de cálculos atingido\n",
            "Temperatura: 96059.60 | Aceitou: 24 | Não aceitou: 51\n",
            "Primeiro melhor\n",
            "VPL:  8161855\n"
          ]
        }
      ],
      "source": [
        "v1_num_calc_vpl = {num: {'mm': [0], 'pm': []} for num in num_calculos_obj}\n",
        "max_iter = 20\n",
        "\n",
        "for iter_experimento in numero_rando_exp:\n",
        "    print(f'\\nExperimento {iter_experimento+1} iniciado')\n",
        "    for max_calculos_obj in v1_num_calc_vpl.items():\n",
        "        print(f'\\nNúmero de cálculos: {max_calculos_obj[0]}')\n",
        "        \n",
        "        calculos_dict = max_calculos_obj[1]\n",
        "        vpl_sa, sol_sa = simulated_annealing(df_2, solucoes_alpha[2],\n",
        "                                temp_inicial=100000,\n",
        "                                final_temp=1,\n",
        "                                cooling_rate=0.990,\n",
        "                                vizinhanca='aleatoria',\n",
        "                                max_calculos_obj=max_calculos_obj[0],\n",
        "                                max_iter=max_iter,\n",
        "                                seed=iter_experimento)\n",
        "        print('Primeiro melhor\\nVPL: ', vpl_sa)\n",
        "        calculos_dict['pm'].append(vpl_sa)\n"
      ]
    },
    {
      "cell_type": "code",
      "execution_count": 120,
      "metadata": {},
      "outputs": [
        {
          "data": {
            "image/png": "[encoded data removed]",
            "text/plain": [
              "<Figure size 640x480 with 1 Axes>"
            ]
          },
          "metadata": {},
          "output_type": "display_data"
        }
      ],
      "source": [
        "v1 = experimento(v1_num_calc_vpl, num_calculos_obj)\n",
        "v1.calcula_estatisticas()\n",
        "v1.plota_experimento(medida='media')"
      ]
    },
    {
      "cell_type": "code",
      "execution_count": null,
      "metadata": {},
      "outputs": [],
      "source": [
        "# Exporta resultados\n",
        "\n",
        "caminho = 'sa_v1_experimentos.json'\n",
        "with open(caminho, 'w', encoding='utf-8') as arquivo:\n",
        "    json.dump(v1_num_calc_vpl, arquivo, ensure_ascii=False, indent=4, default=numpy_to_python)"
      ]
    },
    {
      "cell_type": "markdown",
      "metadata": {},
      "source": [
        "## V2 - Vizinhança localizada"
      ]
    },
    {
      "cell_type": "code",
      "execution_count": 121,
      "metadata": {},
      "outputs": [
        {
          "name": "stdout",
          "output_type": "stream",
          "text": [
            "\n",
            "Experimento 1 iniciado\n",
            "\n",
            "Número de cálculos: 50\n",
            "Número máximo de cálculos atingido\n",
            "Temperatura: 98010.00 | Aceitou: 9 | Não aceitou: 16\n",
            "Primeiro melhor\n",
            "VPL:  -1602633\n",
            "\n",
            "Número de cálculos: 100\n",
            "Número máximo de cálculos atingido\n",
            "Temperatura: 97029.90 | Aceitou: 22 | Não aceitou: 28\n",
            "Primeiro melhor\n",
            "VPL:  10882675\n",
            "\n",
            "Número de cálculos: 150\n",
            "Número máximo de cálculos atingido\n",
            "Temperatura: 96059.60 | Aceitou: 24 | Não aceitou: 51\n",
            "Primeiro melhor\n",
            "VPL:  19568277\n",
            "\n",
            "Experimento 2 iniciado\n",
            "\n",
            "Número de cálculos: 50\n",
            "Número máximo de cálculos atingido\n",
            "Temperatura: 98010.00 | Aceitou: 14 | Não aceitou: 11\n",
            "Primeiro melhor\n",
            "VPL:  -26972906\n",
            "\n",
            "Número de cálculos: 100\n",
            "Número máximo de cálculos atingido\n",
            "Temperatura: 97029.90 | Aceitou: 22 | Não aceitou: 28\n",
            "Primeiro melhor\n",
            "VPL:  -2106673\n",
            "\n",
            "Número de cálculos: 150\n",
            "Número máximo de cálculos atingido\n",
            "Temperatura: 96059.60 | Aceitou: 28 | Não aceitou: 47\n",
            "Primeiro melhor\n",
            "VPL:  16212706\n",
            "\n",
            "Experimento 3 iniciado\n",
            "\n",
            "Número de cálculos: 50\n",
            "Número máximo de cálculos atingido\n",
            "Temperatura: 98010.00 | Aceitou: 9 | Não aceitou: 16\n",
            "Primeiro melhor\n",
            "VPL:  -22809693\n",
            "\n",
            "Número de cálculos: 100\n",
            "Número máximo de cálculos atingido\n",
            "Temperatura: 97029.90 | Aceitou: 17 | Não aceitou: 33\n",
            "Primeiro melhor\n",
            "VPL:  -19541685\n",
            "\n",
            "Número de cálculos: 150\n",
            "Número máximo de cálculos atingido\n",
            "Temperatura: 96059.60 | Aceitou: 29 | Não aceitou: 46\n",
            "Primeiro melhor\n",
            "VPL:  4672472\n"
          ]
        }
      ],
      "source": [
        "v2_num_calc_vpl = {num: {'mm': [0], 'pm': []} for num in num_calculos_obj}\n",
        "max_iter = 20\n",
        "\n",
        "for iter_experimento in numero_rando_exp:\n",
        "    print(f'\\nExperimento {iter_experimento+1} iniciado')\n",
        "    for max_calculos_obj in v2_num_calc_vpl.items():\n",
        "        print(f'\\nNúmero de cálculos: {max_calculos_obj[0]}')\n",
        "        \n",
        "        calculos_dict = max_calculos_obj[1]\n",
        "        vpl_sa, sol_sa = simulated_annealing(df_2, solucoes_alpha[2],\n",
        "                                temp_inicial=100000,\n",
        "                                final_temp=1,\n",
        "                                cooling_rate=0.990,\n",
        "                                vizinhanca='localizada',\n",
        "                                max_calculos_obj=max_calculos_obj[0],\n",
        "                                max_iter=max_iter,\n",
        "                                seed=iter_experimento)\n",
        "        print('Primeiro melhor\\nVPL: ', vpl_sa)\n",
        "        calculos_dict['pm'].append(vpl_sa)\n"
      ]
    },
    {
      "cell_type": "code",
      "execution_count": 122,
      "metadata": {},
      "outputs": [
        {
          "data": {
            "image/png": "[encoded data removed]",
            "text/plain": [
              "<Figure size 640x480 with 1 Axes>"
            ]
          },
          "metadata": {},
          "output_type": "display_data"
        }
      ],
      "source": [
        "v2 = experimento(v2_num_calc_vpl, num_calculos_obj)\n",
        "v2.calcula_estatisticas()\n",
        "v2.plota_experimento(medida='maximo', vizinhanca='Localizada')"
      ]
    },
    {
      "cell_type": "code",
      "execution_count": 281,
      "metadata": {},
      "outputs": [],
      "source": [
        "# Exporta resultados\n",
        "\n",
        "caminho = 'sa_v2_experimentos.json'\n",
        "with open(caminho, 'w', encoding='utf-8') as arquivo:\n",
        "    json.dump(v2_num_calc_vpl, arquivo, ensure_ascii=False, indent=4, default=numpy_to_python)\n",
        "    "
      ]
    }
  ],
  "metadata": {
    "colab": {
      "provenance": []
    },
    "kernelspec": {
      "display_name": "Python 3",
      "name": "python3"
    },
    "language_info": {
      "codemirror_mode": {
        "name": "ipython",
        "version": 3
      },
      "file_extension": ".py",
      "mimetype": "text/x-python",
      "name": "python",
      "nbconvert_exporter": "python",
      "pygments_lexer": "ipython3",
      "version": "3.13.0"
    }
  },
  "nbformat": 4,
  "nbformat_minor": 0
}
